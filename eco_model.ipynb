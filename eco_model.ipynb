{
 "cells": [
  {
   "cell_type": "code",
   "execution_count": 193,
   "metadata": {},
   "outputs": [],
   "source": [
    "import random\n",
    "import numpy as np\n",
    "from math import exp, log, sqrt, pi\n",
    "import matplotlib.pyplot as plt\n"
   ]
  },
  {
   "cell_type": "code",
   "execution_count": 186,
   "metadata": {},
   "outputs": [],
   "source": [
    "# client side revenue:\n",
    "client_valuation_type = \"uniform\"  # \"gaussian\" ...\n",
    "\n",
    "\n",
    "def client_valuation(type, x=0): \n",
    "    client_valuation_gaussian = lambda mu, sigma: 1/(sigma*sqrt(2*pi))*exp(-((x-mu)**2)/(2*sigma**2))\n",
    "    client_valuation_uniform = lambda low, high: random.uniform(low, high)\n",
    "    \n",
    "    if type == \"gaussian\": \n",
    "        return client_valuation_gaussian\n",
    "    elif type == \"uniform\":\n",
    "        return client_valuation_uniform"
   ]
  },
  {
   "cell_type": "code",
   "execution_count": 87,
   "metadata": {},
   "outputs": [
    {
     "data": {
      "text/plain": [
       "0.08835691901696863"
      ]
     },
     "execution_count": 87,
     "metadata": {},
     "output_type": "execute_result"
    }
   ],
   "source": [
    "client_valuation(\"uniform\")(0, 10)"
   ]
  },
  {
   "cell_type": "code",
   "execution_count": 88,
   "metadata": {},
   "outputs": [],
   "source": [
    "client_cost = lambda varepsilon: random.uniform(0.5,1.5)*exp(varepsilon)"
   ]
  },
  {
   "cell_type": "code",
   "execution_count": 89,
   "metadata": {},
   "outputs": [
    {
     "name": "stdout",
     "output_type": "stream",
     "text": [
      "0.0 <-> 0.5920999820640039\n",
      "0.1 <-> 1.6363043117150635\n",
      "0.2 <-> 1.1577777831841376\n",
      "0.30000000000000004 <-> 1.7866711216886535\n",
      "0.4 <-> 1.493889504378477\n",
      "0.5 <-> 1.7197420002344663\n",
      "0.6000000000000001 <-> 2.1842907118035764\n",
      "0.7000000000000001 <-> 2.2682961549191543\n",
      "0.8 <-> 2.3404798897135803\n",
      "0.9 <-> 2.9627306406370173\n",
      "1.0 <-> 2.465600237743268\n",
      "1.1 <-> 2.8907841594587924\n",
      "1.2000000000000002 <-> 4.22778688122611\n",
      "1.3 <-> 4.290124992799924\n",
      "1.4000000000000001 <-> 5.845780972669317\n",
      "1.5 <-> 4.2056322560946375\n",
      "1.6 <-> 6.386028905894216\n",
      "1.7000000000000002 <-> 3.5595623044454685\n",
      "1.8 <-> 8.933100833816809\n",
      "1.9000000000000001 <-> 9.822499097743151\n"
     ]
    }
   ],
   "source": [
    "for varepsilon in [0.1*i for i in range(20)]:\n",
    "    print(varepsilon, \"<->\", client_cost(varepsilon))"
   ]
  },
  {
   "cell_type": "code",
   "execution_count": 161,
   "metadata": {},
   "outputs": [],
   "source": [
    "# simulation\n",
    "client_number = 1000\n",
    "\n",
    "mu = 1 \n",
    "sigma = 1\n",
    "\n",
    "client_valuation_type = \"gaussian\"  \n",
    "clients_privacy_budget = np.sort(np.absolute(np.random.normal(mu, sigma, client_number)))\n",
    "# clients_privacy_budget = np.linspace(0.0, 4.0, num=client_number)\n",
    "clients_privacy_cost = [client_cost(clients_privacy_budget[i]) for i in range(client_number)]  "
   ]
  },
  {
   "cell_type": "code",
   "execution_count": 156,
   "metadata": {},
   "outputs": [
    {
     "data": {
      "text/plain": [
       "Text(0.5, 0, 'client_privacy_budget')"
      ]
     },
     "execution_count": 156,
     "metadata": {},
     "output_type": "execute_result"
    },
    {
     "data": {
      "image/png": "[encoded data removed]",
      "text/plain": [
       "<Figure size 432x288 with 1 Axes>"
      ]
     },
     "metadata": {
      "needs_background": "light"
     },
     "output_type": "display_data"
    },
    {
     "data": {
      "image/png": "[encoded data removed]",
      "text/plain": [
       "<Figure size 432x288 with 1 Axes>"
      ]
     },
     "metadata": {
      "needs_background": "light"
     },
     "output_type": "display_data"
    }
   ],
   "source": [
    "# plt.figure(0)\n",
    "# plt.hist(clients_privacy_budget, 30)\n",
    "# plt.xlabel(\"client_privacy_budget\")\n",
    "fig = plt.figure(1)\n",
    "plt.xlabel(\"clients_valuation\")\n",
    "\n",
    "plt.figure(2)\n",
    "plt.plot(clients_privacy_budget, clients_privacy_cost)\n",
    "plt.xlabel(\"client_privacy_budget\")\n",
    "\n",
    "# plt.xlabel(\"privacy_budget\")\n",
    "# plt.ylabel(\"privacy_cost\")"
   ]
  },
  {
   "cell_type": "code",
   "execution_count": 167,
   "metadata": {},
   "outputs": [
    {
     "name": "stdout",
     "output_type": "stream",
     "text": [
      "server_budget =  0.0 clients participate: 887 max_profit =  62.84573025554654 total_profit =  3957.3025449930688\n",
      "server_budget =  0.2 clients participate: 846 max_profit =  61.73129630077018 total_profit =  3771.232621307304\n",
      "server_budget =  0.4 clients participate: 798 max_profit =  62.66180576152207 total_profit =  3562.660166225641\n",
      "server_budget =  0.6000000000000001 clients participate: 736 max_profit =  61.05523152955425 total_profit =  3317.7651377220864\n",
      "server_budget =  0.8 clients participate: 674 max_profit =  60.332943888427806 total_profit =  3054.339665114887\n",
      "server_budget =  1.0 clients participate: 597 max_profit =  60.51120141140097 total_profit =  2781.8271977523095\n",
      "server_budget =  1.2000000000000002 clients participate: 508 max_profit =  58.71140954594796 total_profit =  2471.1994911993943\n",
      "server_budget =  1.4000000000000001 clients participate: 389 max_profit =  58.18079495163118 total_profit =  2138.426690119353\n",
      "server_budget =  1.6 clients participate: 325 max_profit =  58.37838690084412 total_profit =  1839.3251050830397\n",
      "server_budget =  1.8 clients participate: 264 max_profit =  57.05657678008283 total_profit =  1561.7845283273434\n",
      "server_budget =  2.0 clients participate: 200 max_profit =  55.178005604374356 total_profit =  1367.2248110568016\n",
      "server_budget =  2.2 clients participate: 151 max_profit =  53.062249482005925 total_profit =  1070.1644098328702\n",
      "server_budget =  2.4000000000000004 clients participate: 106 max_profit =  51.31275641354948 total_profit =  826.142343973601\n",
      "server_budget =  2.6 clients participate: 71 max_profit =  51.80790892418877 total_profit =  633.3454309381245\n",
      "server_budget =  2.8000000000000003 clients participate: 57 max_profit =  42.06993654396243 total_profit =  538.8846610048491\n",
      "server_budget =  3.0 clients participate: 45 max_profit =  44.78436795158942 total_profit =  398.4745426386569\n",
      "server_budget =  3.2 clients participate: 26 max_profit =  47.15292980533924 total_profit =  211.00866363320716\n",
      "server_budget =  3.4000000000000004 clients participate: 17 max_profit =  31.611523642236815 total_profit =  184.6421783148895\n",
      "server_budget =  3.6 clients participate: 8 max_profit =  14.914930606107891 total_profit =  52.192677474886025\n",
      "server_budget =  3.8000000000000003 clients participate: 4 max_profit =  25.684188225587896 total_profit =  52.01541570770304\n",
      "server_budget =  4.0 clients participate: 3 max_profit =  14.934223303703824 total_profit =  19.70569222767872\n",
      "server_budget =  4.2 clients participate: 1 max_profit =  3.840732624203241 total_profit =  3.840732624203241\n"
     ]
    },
    {
     "ename": "ValueError",
     "evalue": "zero-size array to reduction operation maximum which has no identity",
     "output_type": "error",
     "traceback": [
      "\u001b[0;31m---------------------------------------------------------------------------\u001b[0m",
      "\u001b[0;31mValueError\u001b[0m                                Traceback (most recent call last)",
      "\u001b[0;32m<ipython-input-167-644c113142f1>\u001b[0m in \u001b[0;36m<module>\u001b[0;34m\u001b[0m\n\u001b[1;32m      3\u001b[0m     \u001b[0mclients_enroll\u001b[0m \u001b[0;34m=\u001b[0m \u001b[0mlist\u001b[0m\u001b[0;34m(\u001b[0m\u001b[0mfilter\u001b[0m\u001b[0;34m(\u001b[0m\u001b[0;32mlambda\u001b[0m \u001b[0mi\u001b[0m\u001b[0;34m:\u001b[0m \u001b[0mclients_valuation\u001b[0m\u001b[0;34m[\u001b[0m\u001b[0mi\u001b[0m\u001b[0;34m]\u001b[0m \u001b[0;34m>\u001b[0m \u001b[0mclients_cost\u001b[0m\u001b[0;34m[\u001b[0m\u001b[0mi\u001b[0m\u001b[0;34m]\u001b[0m\u001b[0;34m,\u001b[0m \u001b[0mrange\u001b[0m\u001b[0;34m(\u001b[0m\u001b[0mclient_number\u001b[0m\u001b[0;34m)\u001b[0m\u001b[0;34m)\u001b[0m\u001b[0;34m)\u001b[0m\u001b[0;34m\u001b[0m\u001b[0;34m\u001b[0m\u001b[0m\n\u001b[1;32m      4\u001b[0m     \u001b[0mprofits\u001b[0m \u001b[0;34m=\u001b[0m \u001b[0;34m[\u001b[0m\u001b[0mclients_valuation\u001b[0m\u001b[0;34m[\u001b[0m\u001b[0mi\u001b[0m\u001b[0;34m]\u001b[0m\u001b[0;34m-\u001b[0m\u001b[0mclients_cost\u001b[0m\u001b[0;34m[\u001b[0m\u001b[0mi\u001b[0m\u001b[0;34m]\u001b[0m \u001b[0;32mfor\u001b[0m \u001b[0mi\u001b[0m \u001b[0;32min\u001b[0m \u001b[0mclients_enroll\u001b[0m\u001b[0;34m]\u001b[0m\u001b[0;34m\u001b[0m\u001b[0;34m\u001b[0m\u001b[0m\n\u001b[0;32m----> 5\u001b[0;31m     \u001b[0mmax_profit\u001b[0m \u001b[0;34m=\u001b[0m \u001b[0mnp\u001b[0m\u001b[0;34m.\u001b[0m\u001b[0mmax\u001b[0m\u001b[0;34m(\u001b[0m\u001b[0mprofits\u001b[0m\u001b[0;34m)\u001b[0m\u001b[0;34m\u001b[0m\u001b[0;34m\u001b[0m\u001b[0m\n\u001b[0m\u001b[1;32m      6\u001b[0m     \u001b[0msum_profit\u001b[0m \u001b[0;34m=\u001b[0m \u001b[0mnp\u001b[0m\u001b[0;34m.\u001b[0m\u001b[0msum\u001b[0m\u001b[0;34m(\u001b[0m\u001b[0mprofits\u001b[0m\u001b[0;34m)\u001b[0m\u001b[0;34m\u001b[0m\u001b[0;34m\u001b[0m\u001b[0m\n\u001b[1;32m      7\u001b[0m \u001b[0;34m\u001b[0m\u001b[0m\n",
      "\u001b[0;32m<__array_function__ internals>\u001b[0m in \u001b[0;36mamax\u001b[0;34m(*args, **kwargs)\u001b[0m\n",
      "\u001b[0;32m~/anaconda3/lib/python3.8/site-packages/numpy/core/fromnumeric.py\u001b[0m in \u001b[0;36mamax\u001b[0;34m(a, axis, out, keepdims, initial, where)\u001b[0m\n\u001b[1;32m   2752\u001b[0m     \u001b[0;36m5\u001b[0m\u001b[0;34m\u001b[0m\u001b[0;34m\u001b[0m\u001b[0m\n\u001b[1;32m   2753\u001b[0m     \"\"\"\n\u001b[0;32m-> 2754\u001b[0;31m     return _wrapreduction(a, np.maximum, 'max', axis, None, out,\n\u001b[0m\u001b[1;32m   2755\u001b[0m                           keepdims=keepdims, initial=initial, where=where)\n\u001b[1;32m   2756\u001b[0m \u001b[0;34m\u001b[0m\u001b[0m\n",
      "\u001b[0;32m~/anaconda3/lib/python3.8/site-packages/numpy/core/fromnumeric.py\u001b[0m in \u001b[0;36m_wrapreduction\u001b[0;34m(obj, ufunc, method, axis, dtype, out, **kwargs)\u001b[0m\n\u001b[1;32m     84\u001b[0m                 \u001b[0;32mreturn\u001b[0m \u001b[0mreduction\u001b[0m\u001b[0;34m(\u001b[0m\u001b[0maxis\u001b[0m\u001b[0;34m=\u001b[0m\u001b[0maxis\u001b[0m\u001b[0;34m,\u001b[0m \u001b[0mout\u001b[0m\u001b[0;34m=\u001b[0m\u001b[0mout\u001b[0m\u001b[0;34m,\u001b[0m \u001b[0;34m**\u001b[0m\u001b[0mpasskwargs\u001b[0m\u001b[0;34m)\u001b[0m\u001b[0;34m\u001b[0m\u001b[0;34m\u001b[0m\u001b[0m\n\u001b[1;32m     85\u001b[0m \u001b[0;34m\u001b[0m\u001b[0m\n\u001b[0;32m---> 86\u001b[0;31m     \u001b[0;32mreturn\u001b[0m \u001b[0mufunc\u001b[0m\u001b[0;34m.\u001b[0m\u001b[0mreduce\u001b[0m\u001b[0;34m(\u001b[0m\u001b[0mobj\u001b[0m\u001b[0;34m,\u001b[0m \u001b[0maxis\u001b[0m\u001b[0;34m,\u001b[0m \u001b[0mdtype\u001b[0m\u001b[0;34m,\u001b[0m \u001b[0mout\u001b[0m\u001b[0;34m,\u001b[0m \u001b[0;34m**\u001b[0m\u001b[0mpasskwargs\u001b[0m\u001b[0;34m)\u001b[0m\u001b[0;34m\u001b[0m\u001b[0;34m\u001b[0m\u001b[0m\n\u001b[0m\u001b[1;32m     87\u001b[0m \u001b[0;34m\u001b[0m\u001b[0m\n\u001b[1;32m     88\u001b[0m \u001b[0;34m\u001b[0m\u001b[0m\n",
      "\u001b[0;31mValueError\u001b[0m: zero-size array to reduction operation maximum which has no identity"
     ]
    }
   ],
   "source": [
    "\n",
    "for server_budget in [0.2*i for i in range(30)]:\n",
    "    clients_cost = [client_cost(server_budget) for i in range(client_number)]\n",
    "    clients_enroll = list(filter(lambda i: clients_valuation[i] > clients_cost[i], range(client_number)))\n",
    "    profits = [clients_valuation[i]-clients_cost[i] for i in clients_enroll] \n",
    "    max_profit = np.max(profits)\n",
    "    sum_profit = np.sum(profits)\n",
    "    \n",
    "    print(\"server_budget = \", server_budget, \"clients participate:\", len(clients_enroll), \"max_profit = \", max_profit, \"total_profit = \", sum_profit)"
   ]
  },
  {
   "cell_type": "code",
   "execution_count": 100,
   "metadata": {},
   "outputs": [],
   "source": [
    "server_revenue = lambda epoch: (epoch)"
   ]
  },
  {
   "cell_type": "code",
   "execution_count": 238,
   "metadata": {},
   "outputs": [
    {
     "name": "stdout",
     "output_type": "stream",
     "text": [
      "server_budget =  0.1 clients participate: 1000 total_profit =  853.3988413866621\n",
      "server_budget =  0.2 clients participate: 1000 total_profit =  956.4174077980873\n",
      "server_budget =  0.30000000000000004 clients participate: 1000 total_profit =  955.6674242682126\n",
      "server_budget =  0.4 clients participate: 1000 total_profit =  902.6839749274695\n",
      "server_budget =  0.5 clients participate: 1000 total_profit =  827.9051278201108\n",
      "server_budget =  0.6 clients participate: 1000 total_profit =  743.9574004497969\n",
      "server_budget =  0.7 clients participate: 998 total_profit =  655.410887595199\n",
      "server_budget =  0.7999999999999999 clients participate: 983 total_profit =  564.7359868328347\n",
      "server_budget =  0.8999999999999999 clients participate: 955 total_profit =  473.9569719467581\n",
      "server_budget =  0.9999999999999999 clients participate: 882 total_profit =  387.1096426999658\n",
      "server_budget =  1.0999999999999999 clients participate: 750 total_profit =  313.09815468685224\n",
      "server_budget =  1.2 clients participate: 643 total_profit =  251.95286073413445\n",
      "server_budget =  1.3 clients participate: 561 total_profit =  200.95934873237388\n",
      "server_budget =  1.4000000000000001 clients participate: 479 total_profit =  157.7331238603356\n",
      "server_budget =  1.5000000000000002 clients participate: 411 total_profit =  121.46349773520016\n",
      "server_budget =  1.6000000000000003 clients participate: 339 total_profit =  91.81169368978125\n"
     ]
    },
    {
     "data": {
      "text/plain": [
       "[<matplotlib.lines.Line2D at 0x7fc9cb5cd490>]"
      ]
     },
     "execution_count": 238,
     "metadata": {},
     "output_type": "execute_result"
    },
    {
     "data": {
      "image/png": "[encoded data removed]",
      "text/plain": [
       "<Figure size 432x288 with 1 Axes>"
      ]
     },
     "metadata": {
      "needs_background": "light"
     },
     "output_type": "display_data"
    }
   ],
   "source": [
    "# increasing server_budget\n",
    "epochs = 16\n",
    "client_number = 1000\n",
    "total_profits = []\n",
    "server_budget = 0.1\n",
    "server_budget_step = 0.1\n",
    "server_budgetx = [server_budget+i*server_budget_step for i in range(epochs)]\n",
    "clients_participating = []\n",
    "min_clients = 0.2*client_number\n",
    "np.random.seed = 1000\n",
    "client_cost_coe = np.random.uniform(0.5, 1.5, client_number)\n",
    "\n",
    "epoch = 1\n",
    "while epoch <= epochs:\n",
    "   \n",
    "    clients_cost = [client_cost_coe[i]*server_budget for i in range(client_number)]\n",
    "    # clients_valuation = [client_valuation(client_valuation_type, server_budget)(clients_privacy_budget[i], sigma) for i in range(client_number)]\n",
    "    clients_valuation = [exp(client_valuation(\"gaussian\", server_budget)(clients_privacy_budget[i], 1)) for i in range(client_number)]\n",
    "    \n",
    "    clients_enroll = list(filter(lambda i: clients_valuation[i] > clients_cost[i], range(client_number)))\n",
    "    if len(clients_enroll) < min_clients:\n",
    "        server_budget -= server_budget_step\n",
    "        continue\n",
    "    profits = [clients_valuation[i]-clients_cost[i] for i in clients_enroll] \n",
    "    clients_participating.append(len(clients_enroll))\n",
    "\n",
    "    # server_R = server_revenue(sqrt(len(clients_enroll)))\n",
    "    # max_profit = np.max(profits)\n",
    "    # active_f = lambda k: log(1+exp(k))\n",
    "    active_f = lambda k: 1/(1+exp(-k)) \n",
    "    \n",
    "    sum_profit = active_f(epoch)*np.sum(profits)\n",
    "    # if epoch > 1 and sum_profit < total_profits[-1]:\n",
    "    #     server_budget -= server_budget_step\n",
    "    total_profits.append(sum_profit)\n",
    "    \n",
    "    print(\"server_budget = \", server_budget, \"clients participate:\", len(clients_enroll), \"total_profit = \", sum_profit)\n",
    "    server_budget += server_budget_step\n",
    "    epoch += 1\n",
    "\n",
    "plt.plot(server_budgetx, total_profits)"
   ]
  },
  {
   "cell_type": "code",
   "execution_count": 237,
   "metadata": {},
   "outputs": [
    {
     "name": "stdout",
     "output_type": "stream",
     "text": [
      "[1000, 1000, 1000, 1000, 1000, 1000, 999, 987, 959, 860, 730, 614, 535, 451, 397, 346]\n"
     ]
    }
   ],
   "source": [
    "print(clients_participating)"
   ]
  },
  {
   "cell_type": "code",
   "execution_count": 245,
   "metadata": {},
   "outputs": [
    {
     "name": "stdout",
     "output_type": "stream",
     "text": [
      "server_budget =  1.8000000000000016 clients participate: 2178 total_profit =  366.9529123595735\n",
      "server_budget =  1.8000000000000016 clients participate: 2178 total_profit =  442.11375450580164\n",
      "server_budget =  1.8000000000000016 clients participate: 2178 total_profit =  478.142053583342\n",
      "server_budget =  1.8000000000000016 clients participate: 2178 total_profit =  492.9192143630544\n",
      "server_budget =  1.8000000000000016 clients participate: 2178 total_profit =  498.5878859447648\n",
      "server_budget =  1.8000000000000016 clients participate: 2178 total_profit =  500.70621806674336\n",
      "server_budget =  1.8000000000000016 clients participate: 2178 total_profit =  501.4900449667364\n",
      "server_budget =  1.8000000000000016 clients participate: 2178 total_profit =  501.779016587116\n",
      "server_budget =  1.8000000000000016 clients participate: 2178 total_profit =  501.8854071148806\n",
      "server_budget =  1.8000000000000016 clients participate: 2178 total_profit =  501.9245573549967\n",
      "server_budget =  1.8000000000000016 clients participate: 2178 total_profit =  501.93896146029743\n",
      "server_budget =  1.8000000000000016 clients participate: 2178 total_profit =  501.94426064251974\n",
      "server_budget =  1.8000000000000016 clients participate: 2178 total_profit =  501.94621013086714\n",
      "server_budget =  1.8000000000000016 clients participate: 2178 total_profit =  501.94692731136104\n",
      "server_budget =  1.8000000000000016 clients participate: 2178 total_profit =  501.94719114783607\n",
      "server_budget =  1.8000000000000016 clients participate: 2178 total_profit =  501.94728820792085\n"
     ]
    },
    {
     "data": {
      "text/plain": [
       "[<matplotlib.lines.Line2D at 0x7fc9cb83f9d0>]"
      ]
     },
     "execution_count": 245,
     "metadata": {},
     "output_type": "execute_result"
    },
    {
     "data": {
      "image/png": "[encoded data removed]",
      "text/plain": [
       "<Figure size 432x288 with 1 Axes>"
      ]
     },
     "metadata": {
      "needs_background": "light"
     },
     "output_type": "display_data"
    }
   ],
   "source": [
    "# decreasing server_budget\n",
    "epochs = 16\n",
    "client_number = 10000\n",
    "clients_privacy_budget = np.sort(np.absolute(np.random.normal(mu, sigma, client_number)))\n",
    "total_profits = []\n",
    "server_budget = 5\n",
    "server_budget_step = 0.1\n",
    "server_budgetx = [server_budget+i*server_budget_step for i in range(epochs)]\n",
    "clients_participating = []\n",
    "min_clients = 0.2*client_number\n",
    "np.random.seed = 1000\n",
    "client_cost_coe = np.random.uniform(0.5, 1.5, client_number)\n",
    "\n",
    "epoch = 1\n",
    "while epoch <= epochs:\n",
    "   \n",
    "    clients_cost = [client_cost_coe[i]*server_budget for i in range(client_number)]\n",
    "    # clients_valuation = [client_valuation(client_valuation_type, server_budget)(clients_privacy_budget[i], sigma) for i in range(client_number)]\n",
    "    clients_valuation = [exp(client_valuation(\"gaussian\", server_budget)(clients_privacy_budget[i], 1)) for i in range(client_number)]\n",
    "    \n",
    "    clients_enroll = list(filter(lambda i: clients_valuation[i] > clients_cost[i], range(client_number)))\n",
    "    if len(clients_enroll) < min_clients:\n",
    "        server_budget -= server_budget_step\n",
    "        continue\n",
    "    profits = [clients_valuation[i]-clients_cost[i] for i in clients_enroll] \n",
    "    clients_participating.append(len(clients_enroll))\n",
    "\n",
    "    # server_R = server_revenue(sqrt(len(clients_enroll)))\n",
    "    # max_profit = np.max(profits)\n",
    "    # active_f = lambda k: log(1+exp(k))\n",
    "    active_f = lambda k: 1/(1+exp(-k)) \n",
    "    \n",
    "    sum_profit = active_f(epoch)*np.sum(profits)\n",
    "    # if epoch > 1 and sum_profit < total_profits[-1]:\n",
    "    #     server_budget -= server_budget_step\n",
    "    total_profits.append(sum_profit)\n",
    "    \n",
    "    print(\"server_budget = \", server_budget, \"clients participate:\", len(clients_enroll), \"total_profit = \", sum_profit)\n",
    "    # server_budget -= server_budget_step\n",
    "    epoch += 1\n",
    "\n",
    "plt.plot(server_budgetx, total_profits)"
   ]
  },
  {
   "cell_type": "code",
   "execution_count": 243,
   "metadata": {},
   "outputs": [
    {
     "name": "stdout",
     "output_type": "stream",
     "text": [
      "[234, 234, 234, 234, 234, 234, 234, 234, 234, 234, 234, 234, 234, 234, 234, 234]\n"
     ]
    }
   ],
   "source": [
    "print(clients_participating)"
   ]
  },
  {
   "cell_type": "code",
   "execution_count": 251,
   "metadata": {},
   "outputs": [
    {
     "name": "stdout",
     "output_type": "stream",
     "text": [
      "server_budget =  2.9000000000000026 clients participate: 229 total_profit =  158.0898210150075\n",
      "server_budget =  2.9000000000000026 clients participate: 229 total_profit =  190.47044447383217\n",
      "server_budget =  2.9000000000000026 clients participate: 229 total_profit =  205.99207452717903\n",
      "server_budget =  2.9000000000000026 clients participate: 229 total_profit =  212.35833740203415\n",
      "server_budget =  2.9000000000000026 clients participate: 229 total_profit =  214.80050162954498\n",
      "server_budget =  2.9000000000000026 clients participate: 229 total_profit =  215.71311666742696\n",
      "server_budget =  2.9000000000000026 clients participate: 229 total_profit =  216.0508031938258\n",
      "server_budget =  2.9000000000000026 clients participate: 229 total_profit =  216.17529729158477\n",
      "server_budget =  2.9000000000000026 clients participate: 229 total_profit =  216.22113221733542\n",
      "server_budget =  2.9000000000000026 clients participate: 229 total_profit =  216.23799883494272\n",
      "server_budget =  2.9000000000000026 clients participate: 229 total_profit =  216.24420437890265\n",
      "server_budget =  2.9000000000000026 clients participate: 229 total_profit =  216.24648736056278\n",
      "server_budget =  2.9000000000000026 clients participate: 229 total_profit =  216.24732723470885\n",
      "server_budget =  2.9000000000000026 clients participate: 229 total_profit =  216.2476362087818\n",
      "server_budget =  2.9000000000000026 clients participate: 229 total_profit =  216.2477498742133\n",
      "server_budget =  2.9000000000000026 clients participate: 229 total_profit =  216.24779168941876\n"
     ]
    },
    {
     "data": {
      "text/plain": [
       "[<matplotlib.lines.Line2D at 0x7fc9cbe5e5b0>]"
      ]
     },
     "execution_count": 251,
     "metadata": {},
     "output_type": "execute_result"
    },
    {
     "data": {
      "image/png": "[encoded data removed]",
      "text/plain": [
       "<Figure size 432x288 with 1 Axes>"
      ]
     },
     "metadata": {
      "needs_background": "light"
     },
     "output_type": "display_data"
    }
   ],
   "source": [
    "# decreasing server_budget\n",
    "epochs = 16\n",
    "client_number = 1000\n",
    "clients_privacy_budget = np.sort(np.absolute(np.random.normal(mu, sigma, client_number)))\n",
    "total_profits = []\n",
    "server_budget = 5\n",
    "server_budget_step = 0.1\n",
    "server_budgetx = [server_budget+i*server_budget_step for i in range(epochs)]\n",
    "clients_participating = []\n",
    "min_clients = 0.2*client_number\n",
    "np.random.seed = 1000\n",
    "client_cost_coe = np.random.uniform(0.5, 1.5, client_number)\n",
    "\n",
    "epoch = 1\n",
    "while epoch <= epochs:\n",
    "   \n",
    "    clients_cost = [max(-(clients_privacy_budget[i] - server_budget)**3, 0) for i in range(client_number)]\n",
    "    # clients_valuation = [client_valuation(client_valuation_type, server_budget)(clients_privacy_budget[i], sigma) for i in range(client_number)]\n",
    "    clients_valuation = [exp(client_valuation(\"gaussian\", server_budget)(clients_privacy_budget[i], 1)) for i in range(client_number)]\n",
    "    \n",
    "    clients_enroll = list(filter(lambda i: clients_valuation[i] > clients_cost[i], range(client_number)))\n",
    "    if len(clients_enroll) < min_clients:\n",
    "        server_budget -= server_budget_step\n",
    "        continue\n",
    "    profits = [clients_valuation[i]-clients_cost[i] for i in clients_enroll] \n",
    "    clients_participating.append(len(clients_enroll))\n",
    "\n",
    "    # server_R = server_revenue(sqrt(len(clients_enroll)))\n",
    "    # max_profit = np.max(profits)\n",
    "    # active_f = lambda k: log(1+exp(k))\n",
    "    active_f = lambda k: 1/(1+exp(-k)) \n",
    "    \n",
    "    sum_profit = active_f(epoch)*np.sum(profits)\n",
    "    # if epoch > 1 and sum_profit < total_profits[-1]:\n",
    "    #     server_budget -= server_budget_step\n",
    "    total_profits.append(sum_profit)\n",
    "    \n",
    "    print(\"server_budget = \", server_budget, \"clients participate:\", len(clients_enroll), \"total_profit = \", sum_profit)\n",
    "    # server_budget -= server_budget_step\n",
    "    epoch += 1\n",
    "\n",
    "plt.plot(server_budgetx, total_profits)"
   ]
  }
 ],
 "metadata": {
  "interpreter": {
   "hash": "22ba5cfddb0696f4770d05d1928b184cd386e5d0688faf1f7407f95640ebfd7b"
  },
  "kernelspec": {
   "display_name": "Python 3.8.3 ('base')",
   "language": "python",
   "name": "python3"
  },
  "language_info": {
   "codemirror_mode": {
    "name": "ipython",
    "version": 3
   },
   "file_extension": ".py",
   "mimetype": "text/x-python",
   "name": "python",
   "nbconvert_exporter": "python",
   "pygments_lexer": "ipython3",
   "version": "3.8.3"
  },
  "orig_nbformat": 4
 },
 "nbformat": 4,
 "nbformat_minor": 2
}
