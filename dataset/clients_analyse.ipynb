{
 "cells": [
  {
   "cell_type": "code",
   "execution_count": 22,
   "metadata": {},
   "outputs": [
    {
     "name": "stdout",
     "output_type": "stream",
     "text": [
      "Using matplotlib backend: MacOSX\n"
     ]
    }
   ],
   "source": [
    "import pickle\n",
    "import numpy as np\n",
    "import matplotlib.pyplot as plt\n",
    "%matplotlib"
   ]
  },
  {
   "cell_type": "code",
   "execution_count": 2,
   "metadata": {},
   "outputs": [],
   "source": [
    "def load_clients(filename):\n",
    "\n",
    "    with open(filename, 'rb') as fp:\n",
    "        clients = pickle.load(fp)\n",
    "    print(\"client size: \", len(clients))\n",
    "    \n",
    "    distribution = {}\n",
    "    for client in clients:\n",
    "        distribution[client] = distribution.get(client, 0) + 1\n",
    "\n",
    "    distribution = sorted(distribution.items(), key=lambda x: -x[-1])\n",
    "    x = np.array([i[0] for i in distribution])\n",
    "    y = np.array([i[1] for i in distribution])\n",
    "    print(\"distinct clients: \",len(x))\n",
    "    print(\"var/client: \", np.var(y)/len(y))\n",
    "    return x, y"
   ]
  },
  {
   "cell_type": "code",
   "execution_count": 3,
   "metadata": {},
   "outputs": [],
   "source": [
    "def savefig_word_distribution(x, y, topk=50):\n",
    "    x_top = x[:topk]\n",
    "    y_top = y[:topk]\n",
    "    total_clients = np.sum(y)\n",
    "    with plt.style.context(\"seaborn\"):\n",
    "        plt.xticks(rotation=90)\n",
    "        \n",
    "        plt.xlabel(\"words\")\n",
    "        plt.ylabel(\"word_counts\")\n",
    "        plt.title(\"Words Count Distribution\")\n",
    "        plt.plot(x_top, y_top, '^-')\n",
    "        plt.savefig(f\"./clients_{total_clients}.png\", format=\"png\")\n"
   ]
  },
  {
   "cell_type": "code",
   "execution_count": 4,
   "metadata": {},
   "outputs": [
    {
     "name": "stdout",
     "output_type": "stream",
     "text": [
      "client size:  99411\n",
      "distinct clients:  15742\n",
      "var/client:  0.13729282674948987\n"
     ]
    }
   ],
   "source": [
    "x, y = load_clients(\"./triehh_clients.txt\")\n",
    "savefig_word_distribution(x, y, topk=50)\n",
    "\n"
   ]
  },
  {
   "cell_type": "code",
   "execution_count": 5,
   "metadata": {},
   "outputs": [
    {
     "name": "stdout",
     "output_type": "stream",
     "text": [
      "client size:  90740\n",
      "distinct clients:  15737\n",
      "var/client:  0.06305916690756608\n"
     ]
    }
   ],
   "source": [
    "x, y = load_clients(\"./triehh_clients_remove_top5_90740.txt\")\n",
    "savefig_word_distribution(x, y, topk=50)"
   ]
  },
  {
   "cell_type": "code",
   "execution_count": null,
   "metadata": {},
   "outputs": [],
   "source": [
    "removed_words = x[:5]\n"
   ]
  },
  {
   "cell_type": "markdown",
   "metadata": {},
   "source": [
    "## VVR for TrieHH"
   ]
  },
  {
   "cell_type": "code",
   "execution_count": 21,
   "metadata": {},
   "outputs": [],
   "source": [
    "# VVR\n",
    "\n",
    "x = [\"2716\", \"4642\", \"9004\", \"90740\", \"99411\"]\n",
    "y = [5.916667, 10.083333, 19.666667,198.333333, 217.333333]\n",
    "\n",
    "plt.figure()\n",
    "plt.xticks(rotation=10)\n",
    "plt.xlabel(\"client_size (n)\")\n",
    "plt.ylabel(\"VRR\")\n",
    "plt.title(r\"VRR ($\\varepsilon=12, \\delta=1/n^2$)\")\n",
    "plt.plot(x, y, '^')\n",
    "plt.savefig(\"./VVR.png\")"
   ]
  },
  {
   "cell_type": "code",
   "execution_count": 30,
   "metadata": {},
   "outputs": [
    {
     "name": "stdout",
     "output_type": "stream",
     "text": [
      "[[0.2, 0.8999999999999999, 1.5999999999999999, 2.3, 3.0, 3.7, 4.4, 5.1000000000000005, 5.800000000000001, 6.500000000000001, 7.200000000000001, 7.900000000000001, 8.600000000000001, 9.3, 10.0, 10.7, 11.399999999999999], [0.0, 0.0, 0.0, 0.0, 0.0, 0.0, 0.0, 0.0, 0.0, 0.0, 0.0, 0.0, 0.0, 0.0, 0.0, 0.0, 0.0]]\n"
     ]
    }
   ],
   "source": [
    "import os\n",
    "\n",
    "\n",
    "filename = \"../results/connectionloss_2716\"\n",
    "alg = \"triehh\"\n",
    "closs = 0.0\n",
    "score = \"F1\"\n",
    "\n",
    "with open(os.path.join(filename, f'{alg}_cls{closs:.1f}_{score}'), 'rb') as f:\n",
    "    print(pickle.load(f))"
   ]
  },
  {
   "cell_type": "markdown",
   "metadata": {},
   "source": [
    "## Generate Zipf Distribution dataset"
   ]
  },
  {
   "cell_type": "code",
   "execution_count": null,
   "metadata": {},
   "outputs": [],
   "source": [
    "import pandas as pd\n",
    "\n",
    "a = np.random.zipf(1.5, 2000)                                            \n",
    "\n",
    "\n",
    "with open(\"./triehh_clients_remove_top5_90740.txt\", 'rb') as f:\n",
    "    data = pickle.load(f) \n",
    "\n",
    "k = np.bincount(a)[1:]\n",
    "\n",
    "value_counts = pd.value_counts(data)\n",
    "\n",
    "value_counts.sort_values(ascending=False)\n",
    "\n",
    "clients = []\n",
    "rank = 0\n",
    "for item in value_counts.keys():\n",
    "    clients += [item]*k[rank]\n",
    "    rank += 1\n",
    "\n",
    "np.random.shuffle(clients)\n",
    "\n",
    "with open(\"./zipf_remove_top5_20000.txt\", 'wb') as f:\n",
    "    pickle.dump(clients, f)\n"
   ]
  }
 ],
 "metadata": {
  "kernelspec": {
   "display_name": "Python 3.8.3 ('base')",
   "language": "python",
   "name": "python3"
  },
  "language_info": {
   "codemirror_mode": {
    "name": "ipython",
    "version": 3
   },
   "file_extension": ".py",
   "mimetype": "text/x-python",
   "name": "python",
   "nbconvert_exporter": "python",
   "pygments_lexer": "ipython3",
   "version": "3.8.3"
  },
  "orig_nbformat": 4,
  "vscode": {
   "interpreter": {
    "hash": "22ba5cfddb0696f4770d05d1928b184cd386e5d0688faf1f7407f95640ebfd7b"
   }
  }
 },
 "nbformat": 4,
 "nbformat_minor": 2
}
