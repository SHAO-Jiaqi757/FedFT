{
 "cells": [
  {
   "cell_type": "code",
   "execution_count": 3,
   "metadata": {},
   "outputs": [
    {
     "name": "stdout",
     "output_type": "stream",
     "text": [
      "Using matplotlib backend: MacOSX\n"
     ]
    }
   ],
   "source": [
    "import pickle\n",
    "import numpy as np\n",
    "import matplotlib.pyplot as plt\n",
    "%matplotlib"
   ]
  },
  {
   "cell_type": "code",
   "execution_count": 3,
   "metadata": {},
   "outputs": [],
   "source": [
    "def load_clients(filename):\n",
    "\n",
    "    with open(filename, 'rb') as fp:\n",
    "        clients = pickle.load(fp)\n",
    "    print(\"client size: \", len(clients))\n",
    "    \n",
    "    distribution = {}\n",
    "    for client in clients:\n",
    "        distribution[client] = distribution.get(client, 0) + 1\n",
    "\n",
    "    distribution = sorted(distribution.items(), key=lambda x: -x[-1])\n",
    "    x = np.array([i[0] for i in distribution])\n",
    "    y = np.array([i[1] for i in distribution])\n",
    "    print(\"distinct clients: \",len(x))\n",
    "    print(\"var: \", np.var(y))\n",
    "    return x, y"
   ]
  },
  {
   "cell_type": "code",
   "execution_count": 4,
   "metadata": {},
   "outputs": [],
   "source": [
    "def savefig_word_distribution(x, y, topk=50):\n",
    "    x_top = x[:topk]\n",
    "    y_top = y[:topk]\n",
    "    total_clients = np.sum(y)\n",
    "    with plt.style.context(\"seaborn\"):\n",
    "        plt.xticks(rotation=90)\n",
    "        \n",
    "        plt.xlabel(\"words\")\n",
    "        plt.ylabel(\"word_counts\")\n",
    "        plt.title(\"Words Count Distribution\")\n",
    "        plt.plot(x_top, y_top, '^-')\n",
    "        plt.savefig(f\"./clients_{total_clients}.png\", format=\"png\")\n"
   ]
  },
  {
   "cell_type": "code",
   "execution_count": 5,
   "metadata": {},
   "outputs": [
    {
     "name": "stdout",
     "output_type": "stream",
     "text": [
      "client size:  1989\n",
      "distinct clients:  234\n",
      "var/client:  12.585552268244577\n"
     ]
    },
    {
     "ename": "",
     "evalue": "",
     "output_type": "error",
     "traceback": [
      "The Kernel crashed while executing code in the the current cell or a previous cell. Please review the code in the cell(s) to identify a possible cause of the failure. Click <a href='https://aka.ms/vscodeJupyterKernelCrash'>here</a> for more info. View Jupyter <a href='command:jupyter.viewOutput'>log</a> for further details."
     ]
    }
   ],
   "source": [
    "x, y = load_clients(\"./zipf_remove_top5_1989.txt\")\n",
    "savefig_word_distribution(x, y, topk=50)\n",
    "\n"
   ]
  },
  {
   "cell_type": "code",
   "execution_count": 5,
   "metadata": {},
   "outputs": [
    {
     "name": "stdout",
     "output_type": "stream",
     "text": [
      "client size:  90740\n",
      "distinct clients:  15737\n",
      "var/client:  0.06305916690756608\n"
     ]
    }
   ],
   "source": [
    "x, y = load_clients(\"./triehh_clients_remove_top5_90740.txt\")\n",
    "savefig_word_distribution(x, y, topk=50)"
   ]
  },
  {
   "cell_type": "markdown",
   "metadata": {},
   "source": [
    "## Generate Zipf Distribution dataset"
   ]
  },
  {
   "cell_type": "code",
   "execution_count": 8,
   "metadata": {},
   "outputs": [],
   "source": [
    "import numpy as np\n",
    "import pandas as pd\n",
    "\n",
    "a = np.random.zipf(1.5, 2200)                                            \n",
    "\n",
    "\n",
    "with open(\"./triehh_clients_remove_top5_90740.txt\", 'rb') as f:\n",
    "    data = pickle.load(f) \n",
    "\n",
    "k = np.bincount(a)[1:]\n",
    "\n",
    "value_counts = pd.value_counts(data)\n",
    "\n",
    "value_counts.sort_values(ascending=False)\n",
    "\n",
    "clients = []\n",
    "rank = 0\n",
    "for item in value_counts.keys():\n",
    "    clients += [item]*k[rank]\n",
    "    rank += 1\n",
    "\n",
    "np.random.shuffle(clients)\n",
    "n = len(clients)\n",
    "\n",
    "with open(f\"./zipf_{n}.txt\", 'wb') as f:\n",
    "    pickle.dump(clients, f)\n"
   ]
  },
  {
   "cell_type": "code",
   "execution_count": null,
   "metadata": {},
   "outputs": [],
   "source": []
  },
  {
   "cell_type": "markdown",
   "metadata": {},
   "source": [
    "## Generate Poisson distribution dataset"
   ]
  },
  {
   "cell_type": "code",
   "execution_count": null,
   "metadata": {},
   "outputs": [],
   "source": [
    "import numpy as np\n",
    "\n",
    "import pandas as pd\n",
    "\n",
    "a = np.random.poisson(100, 2000)                                            \n",
    "\n",
    "\n",
    "with open(\"./triehh_clients_remove_top5_90740.txt\", 'rb') as f:\n",
    "    data = pickle.load(f) \n",
    "\n",
    "k = np.bincount(a)[1:]\n",
    "\n",
    "value_counts = pd.value_counts(data)\n",
    "\n",
    "value_counts.sort_values(ascending=False)\n",
    "\n",
    "clients = []\n",
    "rank = 0\n",
    "for item in value_counts.keys():\n",
    "    clients += [item]*k[rank]\n",
    "    rank += 1\n",
    "\n",
    "np.random.shuffle(clients)\n",
    "\n",
    "with open(\"./zipf_remove_top5_20000.txt\", 'wb') as f:\n",
    "    pickle.dump(clients, f)\n"
   ]
  },
  {
   "cell_type": "code",
   "execution_count": null,
   "metadata": {},
   "outputs": [],
   "source": [
    "mechanism = ['fedft', 'wtrie', 'triehh','pem']\n",
    "color = [\"blue\",\"orange\", \"green\",  \"red\"]\n",
    "score = 'F1'\n",
    "connectionloss = [0.0, 0.1, 0.2, 0.3, 0.4, 0.5, 0.6]\n",
    "dir = [\"../results/connectionloss_99411/\", \"../results/connectionloss_90740/\"]\n",
    "plt.figure()\n",
    "for clsr in connectionloss:\n",
    "    for inx, mc in enumerate(mechanism):\n",
    "        filename = f\"{mechanism}_cls{clsr}_F1\"\n",
    "        col = color[inx]\n",
    "        "
   ]
  },
  {
   "cell_type": "markdown",
   "metadata": {},
   "source": [
    "## Generate Numeric Dataset\n",
    "> https://www.kaggle.com/datasets/ahmedsowah/fitbit-fitness-data (dailySteps_merged.csv)"
   ]
  },
  {
   "cell_type": "code",
   "execution_count": 78,
   "metadata": {},
   "outputs": [],
   "source": [
    "import pandas as pd\n",
    "import pickle\n",
    "import os \n",
    "import time\n",
    "import matplotlib.pyplot as plt"
   ]
  },
  {
   "cell_type": "code",
   "execution_count": 4,
   "metadata": {},
   "outputs": [],
   "source": [
    "steps_df = pd.read_csv(\"./dailySteps_merged.csv\")"
   ]
  },
  {
   "cell_type": "code",
   "execution_count": 5,
   "metadata": {},
   "outputs": [
    {
     "data": {
      "text/html": [
       "<div>\n",
       "<style scoped>\n",
       "    .dataframe tbody tr th:only-of-type {\n",
       "        vertical-align: middle;\n",
       "    }\n",
       "\n",
       "    .dataframe tbody tr th {\n",
       "        vertical-align: top;\n",
       "    }\n",
       "\n",
       "    .dataframe thead th {\n",
       "        text-align: right;\n",
       "    }\n",
       "</style>\n",
       "<table border=\"1\" class=\"dataframe\">\n",
       "  <thead>\n",
       "    <tr style=\"text-align: right;\">\n",
       "      <th></th>\n",
       "      <th>Id</th>\n",
       "      <th>StepTotal</th>\n",
       "    </tr>\n",
       "  </thead>\n",
       "  <tbody>\n",
       "    <tr>\n",
       "      <th>count</th>\n",
       "      <td>9.400000e+02</td>\n",
       "      <td>940.000000</td>\n",
       "    </tr>\n",
       "    <tr>\n",
       "      <th>mean</th>\n",
       "      <td>4.855407e+09</td>\n",
       "      <td>7637.910638</td>\n",
       "    </tr>\n",
       "    <tr>\n",
       "      <th>std</th>\n",
       "      <td>2.424805e+09</td>\n",
       "      <td>5087.150742</td>\n",
       "    </tr>\n",
       "    <tr>\n",
       "      <th>min</th>\n",
       "      <td>1.503960e+09</td>\n",
       "      <td>0.000000</td>\n",
       "    </tr>\n",
       "    <tr>\n",
       "      <th>25%</th>\n",
       "      <td>2.320127e+09</td>\n",
       "      <td>3789.750000</td>\n",
       "    </tr>\n",
       "    <tr>\n",
       "      <th>50%</th>\n",
       "      <td>4.445115e+09</td>\n",
       "      <td>7405.500000</td>\n",
       "    </tr>\n",
       "    <tr>\n",
       "      <th>75%</th>\n",
       "      <td>6.962181e+09</td>\n",
       "      <td>10727.000000</td>\n",
       "    </tr>\n",
       "    <tr>\n",
       "      <th>max</th>\n",
       "      <td>8.877689e+09</td>\n",
       "      <td>36019.000000</td>\n",
       "    </tr>\n",
       "  </tbody>\n",
       "</table>\n",
       "</div>"
      ],
      "text/plain": [
       "                 Id     StepTotal\n",
       "count  9.400000e+02    940.000000\n",
       "mean   4.855407e+09   7637.910638\n",
       "std    2.424805e+09   5087.150742\n",
       "min    1.503960e+09      0.000000\n",
       "25%    2.320127e+09   3789.750000\n",
       "50%    4.445115e+09   7405.500000\n",
       "75%    6.962181e+09  10727.000000\n",
       "max    8.877689e+09  36019.000000"
      ]
     },
     "execution_count": 5,
     "metadata": {},
     "output_type": "execute_result"
    }
   ],
   "source": [
    "steps_df.describe()"
   ]
  },
  {
   "cell_type": "code",
   "execution_count": 6,
   "metadata": {},
   "outputs": [
    {
     "data": {
      "text/html": [
       "<div>\n",
       "<style scoped>\n",
       "    .dataframe tbody tr th:only-of-type {\n",
       "        vertical-align: middle;\n",
       "    }\n",
       "\n",
       "    .dataframe tbody tr th {\n",
       "        vertical-align: top;\n",
       "    }\n",
       "\n",
       "    .dataframe thead th {\n",
       "        text-align: right;\n",
       "    }\n",
       "</style>\n",
       "<table border=\"1\" class=\"dataframe\">\n",
       "  <thead>\n",
       "    <tr style=\"text-align: right;\">\n",
       "      <th></th>\n",
       "      <th>Id</th>\n",
       "      <th>ActivityDay</th>\n",
       "      <th>StepTotal</th>\n",
       "    </tr>\n",
       "  </thead>\n",
       "  <tbody>\n",
       "    <tr>\n",
       "      <th>0</th>\n",
       "      <td>1503960366</td>\n",
       "      <td>4/12/2016</td>\n",
       "      <td>13162</td>\n",
       "    </tr>\n",
       "    <tr>\n",
       "      <th>1</th>\n",
       "      <td>1503960366</td>\n",
       "      <td>4/13/2016</td>\n",
       "      <td>10735</td>\n",
       "    </tr>\n",
       "    <tr>\n",
       "      <th>2</th>\n",
       "      <td>1503960366</td>\n",
       "      <td>4/14/2016</td>\n",
       "      <td>10460</td>\n",
       "    </tr>\n",
       "    <tr>\n",
       "      <th>3</th>\n",
       "      <td>1503960366</td>\n",
       "      <td>4/15/2016</td>\n",
       "      <td>9762</td>\n",
       "    </tr>\n",
       "    <tr>\n",
       "      <th>4</th>\n",
       "      <td>1503960366</td>\n",
       "      <td>4/16/2016</td>\n",
       "      <td>12669</td>\n",
       "    </tr>\n",
       "  </tbody>\n",
       "</table>\n",
       "</div>"
      ],
      "text/plain": [
       "           Id ActivityDay  StepTotal\n",
       "0  1503960366   4/12/2016      13162\n",
       "1  1503960366   4/13/2016      10735\n",
       "2  1503960366   4/14/2016      10460\n",
       "3  1503960366   4/15/2016       9762\n",
       "4  1503960366   4/16/2016      12669"
      ]
     },
     "execution_count": 6,
     "metadata": {},
     "output_type": "execute_result"
    }
   ],
   "source": [
    "steps_df.head()"
   ]
  },
  {
   "cell_type": "code",
   "execution_count": 7,
   "metadata": {},
   "outputs": [
    {
     "data": {
      "text/plain": [
       "array(['4/12/2016', '4/13/2016', '4/14/2016', '4/15/2016', '4/16/2016',\n",
       "       '4/17/2016', '4/18/2016', '4/19/2016', '4/20/2016', '4/21/2016',\n",
       "       '4/22/2016', '4/23/2016', '4/24/2016', '4/25/2016', '4/26/2016',\n",
       "       '4/27/2016', '4/28/2016', '4/29/2016', '4/30/2016', '5/1/2016',\n",
       "       '5/2/2016', '5/3/2016', '5/4/2016', '5/5/2016', '5/6/2016',\n",
       "       '5/7/2016', '5/8/2016', '5/9/2016', '5/10/2016', '5/11/2016',\n",
       "       '5/12/2016'], dtype=object)"
      ]
     },
     "execution_count": 7,
     "metadata": {},
     "output_type": "execute_result"
    }
   ],
   "source": [
    "steps_df.ActivityDay.unique()"
   ]
  },
  {
   "cell_type": "code",
   "execution_count": 8,
   "metadata": {},
   "outputs": [],
   "source": [
    "specific_date = '4/24/2016'\n",
    "filter_df = (steps_df.loc[steps_df.ActivityDay == specific_date])"
   ]
  },
  {
   "cell_type": "code",
   "execution_count": 56,
   "metadata": {},
   "outputs": [
    {
     "name": "stdout",
     "output_type": "stream",
     "text": [
      "[12. 10.  5.  4.  1.] [    0.   4597.6  9195.2 13792.8 18390.4 22988. ]\n"
     ]
    },
    {
     "data": {
      "image/png": "[encoded data removed]",
      "text/plain": [
       "<Figure size 432x288 with 1 Axes>"
      ]
     },
     "metadata": {
      "needs_background": "light"
     },
     "output_type": "display_data"
    }
   ],
   "source": [
    "from random import randint\n",
    "\n",
    "\n",
    "distribution_p = filter_df.StepTotal/filter_df.StepTotal.sum()\n",
    "\n",
    "counts, bins, _ = plt.hist(filter_df.StepTotal, bins=5)\n",
    "print(counts, bins)\n",
    "counts_p = counts/counts.sum()\n"
   ]
  },
  {
   "cell_type": "code",
   "execution_count": 51,
   "metadata": {},
   "outputs": [
    {
     "name": "stdout",
     "output_type": "stream",
     "text": [
      "12     10039\n",
      "43      6076\n",
      "74      3321\n",
      "104        0\n",
      "135     2090\n",
      "166    13481\n",
      "197     3490\n",
      "228     4165\n",
      "259     9471\n",
      "277     6873\n",
      "308     6731\n",
      "328    14112\n",
      "358        0\n",
      "393     4081\n",
      "424    10243\n",
      "455     5002\n",
      "486     8563\n",
      "517    15050\n",
      "548     1807\n",
      "579    15764\n",
      "609     7623\n",
      "637     5896\n",
      "666     2153\n",
      "692     5029\n",
      "723    11085\n",
      "749     3520\n",
      "780    22988\n",
      "811     8905\n",
      "830     3703\n",
      "861     8286\n",
      "892      400\n",
      "921    16674\n",
      "Name: StepTotal, dtype: int64\n"
     ]
    }
   ],
   "source": [
    "bins = filter_df.StepTotal\n",
    "print(bins)\n"
   ]
  },
  {
   "cell_type": "code",
   "execution_count": 72,
   "metadata": {},
   "outputs": [],
   "source": [
    "\n",
    "def gen_samples(n, bins):\n",
    "    synthetic_list = []\n",
    "    for j in range(n):\n",
    "        choice_list = [randint(int(bins[i]), int(bins[i+1])+1) for i in range(len(bins)-1)]\n",
    "        synthetic_list.append(np.random.choice(choice_list, p=counts_p))\n",
    "    return synthetic_list\n"
   ]
  },
  {
   "cell_type": "code",
   "execution_count": 74,
   "metadata": {},
   "outputs": [
    {
     "data": {
      "text/plain": [
       "(array([348., 358., 323., 326., 173., 180., 119., 113.,  30.,  30.]),\n",
       " array([3.00000e+00, 2.29190e+03, 4.58080e+03, 6.86970e+03, 9.15860e+03,\n",
       "        1.14475e+04, 1.37364e+04, 1.60253e+04, 1.83142e+04, 2.06031e+04,\n",
       "        2.28920e+04]),\n",
       " <BarContainer object of 10 artists>)"
      ]
     },
     "execution_count": 74,
     "metadata": {},
     "output_type": "execute_result"
    },
    {
     "data": {
      "image/png": "[encoded data removed]",
      "text/plain": [
       "<Figure size 432x288 with 1 Axes>"
      ]
     },
     "metadata": {
      "needs_background": "light"
     },
     "output_type": "display_data"
    }
   ],
   "source": [
    "gen_SC = gen_samples(2000, bins)\n",
    "plt.hist(gen_SC)"
   ]
  },
  {
   "cell_type": "code",
   "execution_count": 86,
   "metadata": {},
   "outputs": [],
   "source": [
    "binary_data = [bin(i) for i in gen_SC]"
   ]
  },
  {
   "cell_type": "code",
   "execution_count": 88,
   "metadata": {},
   "outputs": [
    {
     "data": {
      "text/plain": [
       "['0b10001000100100',\n",
       " '0b10000111101110',\n",
       " '0b1101010100101',\n",
       " '0b101011110100101',\n",
       " '0b101001010100',\n",
       " '0b1011001011101',\n",
       " '0b11110110',\n",
       " '0b110111110101',\n",
       " '0b100001000101001',\n",
       " '0b10100110000000']"
      ]
     },
     "execution_count": 88,
     "metadata": {},
     "output_type": "execute_result"
    }
   ],
   "source": [
    "binary_data[:10]"
   ]
  },
  {
   "cell_type": "code",
   "execution_count": 89,
   "metadata": {},
   "outputs": [
    {
     "data": {
      "text/plain": [
       "[8740, 8686, 6821, 22437, 2644, 5725, 246, 3573, 16937, 10624]"
      ]
     },
     "execution_count": 89,
     "metadata": {},
     "output_type": "execute_result"
    }
   ],
   "source": [
    "gen_SC[:10]"
   ]
  },
  {
   "cell_type": "code",
   "execution_count": null,
   "metadata": {},
   "outputs": [],
   "source": []
  },
  {
   "cell_type": "code",
   "execution_count": 80,
   "metadata": {},
   "outputs": [],
   "source": [
    "with open(\"synthetic_steps.txt\", 'wb') as f:\n",
    "    pickle.dump(gen_SC, f)"
   ]
  },
  {
   "cell_type": "code",
   "execution_count": 85,
   "metadata": {},
   "outputs": [
    {
     "data": {
      "text/plain": [
       "list"
      ]
     },
     "execution_count": 85,
     "metadata": {},
     "output_type": "execute_result"
    }
   ],
   "source": [
    "type(gen_SC)"
   ]
  },
  {
   "cell_type": "code",
   "execution_count": null,
   "metadata": {},
   "outputs": [],
   "source": []
  }
 ],
 "metadata": {
  "kernelspec": {
   "display_name": "Python 3.8.3 ('base')",
   "language": "python",
   "name": "python3"
  },
  "language_info": {
   "codemirror_mode": {
    "name": "ipython",
    "version": 3
   },
   "file_extension": ".py",
   "mimetype": "text/x-python",
   "name": "python",
   "nbconvert_exporter": "python",
   "pygments_lexer": "ipython3",
   "version": "3.8.3"
  },
  "orig_nbformat": 4,
  "vscode": {
   "interpreter": {
    "hash": "22ba5cfddb0696f4770d05d1928b184cd386e5d0688faf1f7407f95640ebfd7b"
   }
  }
 },
 "nbformat": 4,
 "nbformat_minor": 2
}
