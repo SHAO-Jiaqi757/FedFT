{
 "cells": [
  {
   "cell_type": "code",
   "execution_count": 3,
   "metadata": {},
   "outputs": [
    {
     "name": "stdout",
     "output_type": "stream",
     "text": [
      "Using matplotlib backend: MacOSX\n"
     ]
    }
   ],
   "source": [
    "import pickle\n",
    "import numpy as np\n",
    "import matplotlib.pyplot as plt\n",
    "%matplotlib"
   ]
  },
  {
   "cell_type": "code",
   "execution_count": 3,
   "metadata": {},
   "outputs": [],
   "source": [
    "def load_clients(filename):\n",
    "\n",
    "    with open(filename, 'rb') as fp:\n",
    "        clients = pickle.load(fp)\n",
    "    print(\"client size: \", len(clients))\n",
    "    \n",
    "    distribution = {}\n",
    "    for client in clients:\n",
    "        distribution[client] = distribution.get(client, 0) + 1\n",
    "\n",
    "    distribution = sorted(distribution.items(), key=lambda x: -x[-1])\n",
    "    x = np.array([i[0] for i in distribution])\n",
    "    y = np.array([i[1] for i in distribution])\n",
    "    print(\"distinct clients: \",len(x))\n",
    "    print(\"var: \", np.var(y))\n",
    "    return x, y"
   ]
  },
  {
   "cell_type": "code",
   "execution_count": 4,
   "metadata": {},
   "outputs": [],
   "source": [
    "def savefig_word_distribution(x, y, topk=50):\n",
    "    x_top = x[:topk]\n",
    "    y_top = y[:topk]\n",
    "    total_clients = np.sum(y)\n",
    "    with plt.style.context(\"seaborn\"):\n",
    "        plt.xticks(rotation=90)\n",
    "        \n",
    "        plt.xlabel(\"words\")\n",
    "        plt.ylabel(\"word_counts\")\n",
    "        plt.title(\"Words Count Distribution\")\n",
    "        plt.plot(x_top, y_top, '^-')\n",
    "        plt.savefig(f\"./clients_{total_clients}.png\", format=\"png\")\n"
   ]
  },
  {
   "cell_type": "code",
   "execution_count": 5,
   "metadata": {},
   "outputs": [
    {
     "name": "stdout",
     "output_type": "stream",
     "text": [
      "client size:  1989\n",
      "distinct clients:  234\n",
      "var/client:  12.585552268244577\n"
     ]
    },
    {
     "ename": "",
     "evalue": "",
     "output_type": "error",
     "traceback": [
      "The Kernel crashed while executing code in the the current cell or a previous cell. Please review the code in the cell(s) to identify a possible cause of the failure. Click <a href='https://aka.ms/vscodeJupyterKernelCrash'>here</a> for more info. View Jupyter <a href='command:jupyter.viewOutput'>log</a> for further details."
     ]
    }
   ],
   "source": [
    "x, y = load_clients(\"./zipf_remove_top5_1989.txt\")\n",
    "savefig_word_distribution(x, y, topk=50)\n",
    "\n"
   ]
  },
  {
   "cell_type": "code",
   "execution_count": 5,
   "metadata": {},
   "outputs": [
    {
     "name": "stdout",
     "output_type": "stream",
     "text": [
      "client size:  90740\n",
      "distinct clients:  15737\n",
      "var/client:  0.06305916690756608\n"
     ]
    }
   ],
   "source": [
    "x, y = load_clients(\"./triehh_clients_remove_top5_90740.txt\")\n",
    "savefig_word_distribution(x, y, topk=50)"
   ]
  },
  {
   "cell_type": "markdown",
   "metadata": {},
   "source": [
    "## Generate Zipf Distribution dataset"
   ]
  },
  {
   "cell_type": "code",
   "execution_count": 8,
   "metadata": {},
   "outputs": [],
   "source": [
    "import numpy as np\n",
    "import pandas as pd\n",
    "\n",
    "a = np.random.zipf(1.5, 2200)                                            \n",
    "\n",
    "\n",
    "with open(\"./triehh_clients_remove_top5_90740.txt\", 'rb') as f:\n",
    "    data = pickle.load(f) \n",
    "\n",
    "k = np.bincount(a)[1:]\n",
    "\n",
    "value_counts = pd.value_counts(data)\n",
    "\n",
    "value_counts.sort_values(ascending=False)\n",
    "\n",
    "clients = []\n",
    "rank = 0\n",
    "for item in value_counts.keys():\n",
    "    clients += [item]*k[rank]\n",
    "    rank += 1\n",
    "\n",
    "np.random.shuffle(clients)\n",
    "n = len(clients)\n",
    "\n",
    "with open(f\"./zipf_{n}.txt\", 'wb') as f:\n",
    "    pickle.dump(clients, f)\n"
   ]
  },
  {
   "cell_type": "code",
   "execution_count": null,
   "metadata": {},
   "outputs": [],
   "source": []
  },
  {
   "cell_type": "markdown",
   "metadata": {},
   "source": [
    "## Generate Poisson distribution dataset"
   ]
  },
  {
   "cell_type": "code",
   "execution_count": null,
   "metadata": {},
   "outputs": [],
   "source": [
    "import numpy as np\n",
    "\n",
    "import pandas as pd\n",
    "\n",
    "a = np.random.poisson(100, 2000)                                            \n",
    "\n",
    "\n",
    "with open(\"./triehh_clients_remove_top5_90740.txt\", 'rb') as f:\n",
    "    data = pickle.load(f) \n",
    "\n",
    "k = np.bincount(a)[1:]\n",
    "\n",
    "value_counts = pd.value_counts(data)\n",
    "\n",
    "value_counts.sort_values(ascending=False)\n",
    "\n",
    "clients = []\n",
    "rank = 0\n",
    "for item in value_counts.keys():\n",
    "    clients += [item]*k[rank]\n",
    "    rank += 1\n",
    "\n",
    "np.random.shuffle(clients)\n",
    "\n",
    "with open(\"./zipf_remove_top5_20000.txt\", 'wb') as f:\n",
    "    pickle.dump(clients, f)\n"
   ]
  },
  {
   "cell_type": "code",
   "execution_count": null,
   "metadata": {},
   "outputs": [],
   "source": [
    "mechanism = ['fedft', 'wtrie', 'triehh','pem']\n",
    "color = [\"blue\",\"orange\", \"green\",  \"red\"]\n",
    "score = 'F1'\n",
    "connectionloss = [0.0, 0.1, 0.2, 0.3, 0.4, 0.5, 0.6]\n",
    "dir = [\"../results/connectionloss_99411/\", \"../results/connectionloss_90740/\"]\n",
    "plt.figure()\n",
    "for clsr in connectionloss:\n",
    "    for inx, mc in enumerate(mechanism):\n",
    "        filename = f\"{mechanism}_cls{clsr}_F1\"\n",
    "        col = color[inx]\n",
    "        "
   ]
  },
  {
   "cell_type": "markdown",
   "metadata": {},
   "source": [
    "## Generate Numeric Dataset\n",
    "> https://www.kaggle.com/datasets/ahmedsowah/fitbit-fitness-data (dailySteps_merged.csv)"
   ]
  },
  {
   "cell_type": "code",
   "execution_count": 13,
   "metadata": {},
   "outputs": [],
   "source": [
    "import pandas as pd\n",
    "import pickle\n",
    "import os \n",
    "import time\n",
    "import matplotlib.pyplot as plt"
   ]
  },
  {
   "cell_type": "code",
   "execution_count": 14,
   "metadata": {},
   "outputs": [],
   "source": [
    "steps_df = pd.read_csv(\"./dailySteps_merged.csv\")"
   ]
  },
  {
   "cell_type": "code",
   "execution_count": 5,
   "metadata": {},
   "outputs": [
    {
     "data": {
      "text/html": [
       "<div>\n",
       "<style scoped>\n",
       "    .dataframe tbody tr th:only-of-type {\n",
       "        vertical-align: middle;\n",
       "    }\n",
       "\n",
       "    .dataframe tbody tr th {\n",
       "        vertical-align: top;\n",
       "    }\n",
       "\n",
       "    .dataframe thead th {\n",
       "        text-align: right;\n",
       "    }\n",
       "</style>\n",
       "<table border=\"1\" class=\"dataframe\">\n",
       "  <thead>\n",
       "    <tr style=\"text-align: right;\">\n",
       "      <th></th>\n",
       "      <th>Id</th>\n",
       "      <th>StepTotal</th>\n",
       "    </tr>\n",
       "  </thead>\n",
       "  <tbody>\n",
       "    <tr>\n",
       "      <th>count</th>\n",
       "      <td>9.400000e+02</td>\n",
       "      <td>940.000000</td>\n",
       "    </tr>\n",
       "    <tr>\n",
       "      <th>mean</th>\n",
       "      <td>4.855407e+09</td>\n",
       "      <td>7637.910638</td>\n",
       "    </tr>\n",
       "    <tr>\n",
       "      <th>std</th>\n",
       "      <td>2.424805e+09</td>\n",
       "      <td>5087.150742</td>\n",
       "    </tr>\n",
       "    <tr>\n",
       "      <th>min</th>\n",
       "      <td>1.503960e+09</td>\n",
       "      <td>0.000000</td>\n",
       "    </tr>\n",
       "    <tr>\n",
       "      <th>25%</th>\n",
       "      <td>2.320127e+09</td>\n",
       "      <td>3789.750000</td>\n",
       "    </tr>\n",
       "    <tr>\n",
       "      <th>50%</th>\n",
       "      <td>4.445115e+09</td>\n",
       "      <td>7405.500000</td>\n",
       "    </tr>\n",
       "    <tr>\n",
       "      <th>75%</th>\n",
       "      <td>6.962181e+09</td>\n",
       "      <td>10727.000000</td>\n",
       "    </tr>\n",
       "    <tr>\n",
       "      <th>max</th>\n",
       "      <td>8.877689e+09</td>\n",
       "      <td>36019.000000</td>\n",
       "    </tr>\n",
       "  </tbody>\n",
       "</table>\n",
       "</div>"
      ],
      "text/plain": [
       "                 Id     StepTotal\n",
       "count  9.400000e+02    940.000000\n",
       "mean   4.855407e+09   7637.910638\n",
       "std    2.424805e+09   5087.150742\n",
       "min    1.503960e+09      0.000000\n",
       "25%    2.320127e+09   3789.750000\n",
       "50%    4.445115e+09   7405.500000\n",
       "75%    6.962181e+09  10727.000000\n",
       "max    8.877689e+09  36019.000000"
      ]
     },
     "execution_count": 5,
     "metadata": {},
     "output_type": "execute_result"
    }
   ],
   "source": [
    "steps_df.describe()"
   ]
  },
  {
   "cell_type": "code",
   "execution_count": 9,
   "metadata": {},
   "outputs": [
    {
     "data": {
      "text/html": [
       "<div>\n",
       "<style scoped>\n",
       "    .dataframe tbody tr th:only-of-type {\n",
       "        vertical-align: middle;\n",
       "    }\n",
       "\n",
       "    .dataframe tbody tr th {\n",
       "        vertical-align: top;\n",
       "    }\n",
       "\n",
       "    .dataframe thead th {\n",
       "        text-align: right;\n",
       "    }\n",
       "</style>\n",
       "<table border=\"1\" class=\"dataframe\">\n",
       "  <thead>\n",
       "    <tr style=\"text-align: right;\">\n",
       "      <th></th>\n",
       "      <th>Id</th>\n",
       "      <th>ActivityDay</th>\n",
       "      <th>StepTotal</th>\n",
       "    </tr>\n",
       "  </thead>\n",
       "  <tbody>\n",
       "    <tr>\n",
       "      <th>0</th>\n",
       "      <td>1503960366</td>\n",
       "      <td>4/12/2016</td>\n",
       "      <td>13162</td>\n",
       "    </tr>\n",
       "    <tr>\n",
       "      <th>1</th>\n",
       "      <td>1503960366</td>\n",
       "      <td>4/13/2016</td>\n",
       "      <td>10735</td>\n",
       "    </tr>\n",
       "    <tr>\n",
       "      <th>2</th>\n",
       "      <td>1503960366</td>\n",
       "      <td>4/14/2016</td>\n",
       "      <td>10460</td>\n",
       "    </tr>\n",
       "    <tr>\n",
       "      <th>3</th>\n",
       "      <td>1503960366</td>\n",
       "      <td>4/15/2016</td>\n",
       "      <td>9762</td>\n",
       "    </tr>\n",
       "    <tr>\n",
       "      <th>4</th>\n",
       "      <td>1503960366</td>\n",
       "      <td>4/16/2016</td>\n",
       "      <td>12669</td>\n",
       "    </tr>\n",
       "  </tbody>\n",
       "</table>\n",
       "</div>"
      ],
      "text/plain": [
       "           Id ActivityDay  StepTotal\n",
       "0  1503960366   4/12/2016      13162\n",
       "1  1503960366   4/13/2016      10735\n",
       "2  1503960366   4/14/2016      10460\n",
       "3  1503960366   4/15/2016       9762\n",
       "4  1503960366   4/16/2016      12669"
      ]
     },
     "execution_count": 9,
     "metadata": {},
     "output_type": "execute_result"
    }
   ],
   "source": [
    "steps_df.head()"
   ]
  },
  {
   "cell_type": "code",
   "execution_count": 8,
   "metadata": {},
   "outputs": [
    {
     "data": {
      "text/plain": [
       "array(['4/12/2016', '4/13/2016', '4/14/2016', '4/15/2016', '4/16/2016',\n",
       "       '4/17/2016', '4/18/2016', '4/19/2016', '4/20/2016', '4/21/2016',\n",
       "       '4/22/2016', '4/23/2016', '4/24/2016', '4/25/2016', '4/26/2016',\n",
       "       '4/27/2016', '4/28/2016', '4/29/2016', '4/30/2016', '5/1/2016',\n",
       "       '5/2/2016', '5/3/2016', '5/4/2016', '5/5/2016', '5/6/2016',\n",
       "       '5/7/2016', '5/8/2016', '5/9/2016', '5/10/2016', '5/11/2016',\n",
       "       '5/12/2016'], dtype=object)"
      ]
     },
     "execution_count": 8,
     "metadata": {},
     "output_type": "execute_result"
    }
   ],
   "source": [
    "steps_df.ActivityDay.unique()"
   ]
  },
  {
   "cell_type": "code",
   "execution_count": 3,
   "metadata": {},
   "outputs": [],
   "source": [
    "specific_date = '4/24/2016'\n",
    "filter_df = (steps_df.loc[steps_df.ActivityDay == specific_date])"
   ]
  },
  {
   "cell_type": "code",
   "execution_count": 37,
   "metadata": {},
   "outputs": [
    {
     "name": "stdout",
     "output_type": "stream",
     "text": [
      "[3. 0. 3. 0. 4. 2. 2. 2. 2. 1. 1. 2. 1. 2. 1. 0. 0. 1. 1. 1. 1. 1. 0. 0.\n",
      " 0. 0. 0. 0. 0. 1.] [    0.           766.26666667  1532.53333333  2298.8\n",
      "  3065.06666667  3831.33333333  4597.6         5363.86666667\n",
      "  6130.13333333  6896.4         7662.66666667  8428.93333333\n",
      "  9195.2         9961.46666667 10727.73333333 11494.\n",
      " 12260.26666667 13026.53333333 13792.8        14559.06666667\n",
      " 15325.33333333 16091.6        16857.86666667 17624.13333333\n",
      " 18390.4        19156.66666667 19922.93333333 20689.2\n",
      " 21455.46666667 22221.73333333 22988.        ]\n"
     ]
    },
    {
     "data": {
      "image/png": "[encoded data removed]",
      "text/plain": [
       "<Figure size 640x480 with 1 Axes>"
      ]
     },
     "metadata": {},
     "output_type": "display_data"
    }
   ],
   "source": [
    "from random import randint\n",
    "\n",
    "\n",
    "distribution_p = filter_df.StepTotal/filter_df.StepTotal.sum()\n",
    "\n",
    "counts, bins, _ = plt.hist(filter_df.StepTotal, bins=30)\n",
    "print(counts, bins)\n",
    "counts_p = counts/counts.sum()\n"
   ]
  },
  {
   "cell_type": "code",
   "execution_count": 31,
   "metadata": {},
   "outputs": [],
   "source": [
    "import numpy as np"
   ]
  },
  {
   "cell_type": "code",
   "execution_count": 32,
   "metadata": {},
   "outputs": [],
   "source": [
    "\n",
    "def gen_samples(n, bins):\n",
    "    synthetic_list = []\n",
    "    for j in range(n):\n",
    "        choice_list = [randint(int(bins[i]), int(bins[i+1])+1) for i in range(len(bins)-1)]\n",
    "        synthetic_list.append(np.random.choice(choice_list, p=counts_p))\n",
    "    return synthetic_list\n"
   ]
  },
  {
   "cell_type": "code",
   "execution_count": 38,
   "metadata": {},
   "outputs": [
    {
     "data": {
      "text/plain": [
       "(array([937., 940., 942., 603., 636., 151., 477., 155.,   0., 159.]),\n",
       " array([    0. ,  2298.8,  4597.6,  6896.4,  9195.2, 11494. , 13792.8,\n",
       "        16091.6, 18390.4, 20689.2, 22988. ]),\n",
       " <BarContainer object of 10 artists>)"
      ]
     },
     "execution_count": 38,
     "metadata": {},
     "output_type": "execute_result"
    },
    {
     "data": {
      "image/png": "[encoded data removed]",
      "text/plain": [
       "<Figure size 640x480 with 1 Axes>"
      ]
     },
     "metadata": {},
     "output_type": "display_data"
    }
   ],
   "source": [
    "gen_SC = gen_samples(5000, bins)\n",
    "plt.hist(gen_SC)"
   ]
  },
  {
   "cell_type": "code",
   "execution_count": 34,
   "metadata": {},
   "outputs": [],
   "source": [
    "binary_data = [bin(i) for i in gen_SC]"
   ]
  },
  {
   "cell_type": "code",
   "execution_count": 88,
   "metadata": {},
   "outputs": [
    {
     "data": {
      "text/plain": [
       "['0b10001000100100',\n",
       " '0b10000111101110',\n",
       " '0b1101010100101',\n",
       " '0b101011110100101',\n",
       " '0b101001010100',\n",
       " '0b1011001011101',\n",
       " '0b11110110',\n",
       " '0b110111110101',\n",
       " '0b100001000101001',\n",
       " '0b10100110000000']"
      ]
     },
     "execution_count": 88,
     "metadata": {},
     "output_type": "execute_result"
    }
   ],
   "source": [
    "binary_data[:10]"
   ]
  },
  {
   "cell_type": "code",
   "execution_count": 89,
   "metadata": {},
   "outputs": [
    {
     "data": {
      "text/plain": [
       "[8740, 8686, 6821, 22437, 2644, 5725, 246, 3573, 16937, 10624]"
      ]
     },
     "execution_count": 89,
     "metadata": {},
     "output_type": "execute_result"
    }
   ],
   "source": [
    "gen_SC[:10]"
   ]
  },
  {
   "cell_type": "code",
   "execution_count": null,
   "metadata": {},
   "outputs": [],
   "source": []
  },
  {
   "cell_type": "code",
   "execution_count": 39,
   "metadata": {},
   "outputs": [],
   "source": [
    "with open(\"synthetic_steps.txt\", 'wb') as f:\n",
    "    pickle.dump(gen_SC, f)"
   ]
  },
  {
   "cell_type": "code",
   "execution_count": 85,
   "metadata": {},
   "outputs": [
    {
     "data": {
      "text/plain": [
       "list"
      ]
     },
     "execution_count": 85,
     "metadata": {},
     "output_type": "execute_result"
    }
   ],
   "source": [
    "type(gen_SC)"
   ]
  },
  {
   "cell_type": "markdown",
   "metadata": {},
   "source": [
    "## Share Car Location"
   ]
  },
  {
   "cell_type": "code",
   "execution_count": 1,
   "metadata": {},
   "outputs": [],
   "source": [
    "import pandas as pd\n",
    "import numpy as np\n",
    "import matplotlib.pyplot as plt\n",
    "import s2cell\n",
    "import plotly.express as px"
   ]
  },
  {
   "cell_type": "code",
   "execution_count": 2,
   "metadata": {},
   "outputs": [],
   "source": [
    "path = \"./shareCarLoc.csv\"\n",
    "df_car = pd.read_csv(path)\n"
   ]
  },
  {
   "cell_type": "code",
   "execution_count": 4,
   "metadata": {},
   "outputs": [],
   "source": [
    "df_car = df_car[df_car[\"total_cars\"]>0]"
   ]
  },
  {
   "cell_type": "code",
   "execution_count": 8,
   "metadata": {},
   "outputs": [],
   "source": [
    "df_car[\"s2cell\"] = df_car.apply(lambda row: s2cell.lat_lon_to_cell_id(row[\"latitude\"], row[\"longitude\"]), axis = 1)"
   ]
  },
  {
   "cell_type": "code",
   "execution_count": 36,
   "metadata": {},
   "outputs": [],
   "source": [
    "def Ts2cell(row):\n",
    "    s2cell = (row[\"s2cell\"] >> 11) << 11\n",
    "    timestamp = pd.to_datetime(row[\"timestamp\"])\n",
    "    hour = timestamp.hour\n",
    "    minute = timestamp.minute\n",
    "    return s2cell + ((hour << 6) + minute)\n",
    "\n",
    "df_car[\"Ts2cell\"] = df_car.apply(Ts2cell, axis = 1)"
   ]
  },
  {
   "cell_type": "markdown",
   "metadata": {},
   "source": []
  },
  {
   "cell_type": "code",
   "execution_count": 63,
   "metadata": {},
   "outputs": [],
   "source": [
    "df_car[\"hour\"] = df_car.apply(lambda x: x[\"timestamp\"].split(\":\")[0].split(\" \")[-1], axis=1)\n",
    "# str.split\n",
    "# minute = df_car[\"timestamp\"][1].minute\n",
    "# df_car_st = df_car[df_car[\"timestamp\"].hour == hour and df_car[\"timestamp\"].minute == minute]"
   ]
  },
  {
   "cell_type": "code",
   "execution_count": 360,
   "metadata": {},
   "outputs": [],
   "source": [
    "df_group_by_hour = df_car.groupby([\"hour\", \"latitude\", \"longitude\", \"s2cell\"])[\"total_cars\"].sum()"
   ]
  },
  {
   "cell_type": "code",
   "execution_count": 2,
   "metadata": {},
   "outputs": [],
   "source": [
    "df_group_by_hour = pd.read_csv(\"./groupByhourCarShar.csv\")"
   ]
  },
  {
   "cell_type": "code",
   "execution_count": 53,
   "metadata": {},
   "outputs": [],
   "source": [
    "hour = 10\n",
    "df_car_h = df_group_by_hour[df_group_by_hour[\"hour\"] == hour] \n",
    "top_3 = df_car_h.sort_values(by=\"total_cars\", ascending=False).iloc[:3, :]"
   ]
  },
  {
   "cell_type": "code",
   "execution_count": 48,
   "metadata": {},
   "outputs": [],
   "source": [
    "fig = px.density_mapbox(df_car_h, width=900, height=900, lat=\"latitude\", lon=\"longitude\", z=\"total_cars\", mapbox_style=\"stamen-terrain\", radius=40, zoom=12)"
   ]
  },
  {
   "cell_type": "code",
   "execution_count": 49,
   "metadata": {},
   "outputs": [],
   "source": [
    "\n",
    "import plotly.graph_objects as go\n",
    "fig.add_trace(go.Scattermapbox(\n",
    "        lat=top_3[\"latitude\"],\n",
    "        lon=top_3[\"longitude\"],\n",
    "        mode='markers+text',\n",
    "        marker=go.scattermapbox.Marker(\n",
    "            size=8,\n",
    "            color='black',\n",
    "            opacity=0.5\n",
    "        ),\n",
    "        showlegend= False,\n",
    "    ))\n",
    "\n",
    "fig.add_trace(go.Scattermapbox(\n",
    "        lat=top_3[\"latitude\"],\n",
    "        lon=top_3[\"longitude\"],\n",
    "        mode='markers+text',\n",
    "        marker=go.scattermapbox.Marker(\n",
    "            size=4,\n",
    "            color='red'\n",
    "            \n",
    "        ),\n",
    "        # hovertext = [\"Hot Car Park\"],\n",
    "        # hoverinfo='text',\n",
    "        name=\"Hot Car Park\",\n",
    "        # showlegend=False\n",
    "    ))\n",
    "\n",
    "fig.update_layout(\n",
    "    legend=dict(\n",
    "    yanchor=\"top\",\n",
    "    y=0.99,\n",
    "    xanchor=\"left\",\n",
    "    x=0.5\n",
    "))\n",
    "\n",
    "\n",
    "\n",
    "fig.write_html(\"map.html\")"
   ]
  },
  {
   "cell_type": "code",
   "execution_count": 54,
   "metadata": {},
   "outputs": [
    {
     "name": "stdout",
     "output_type": "stream",
     "text": [
      "(lat: 32.111506, lon: 34.840876, s2cell: 1010100011101010010011110101010110000010101000011110000110011)\n",
      "(lat: 32.0849, lon: 34.7966, s2cell: 1010100011101010010111011111111011101110001111001001100001001)\n",
      "(lat: 32.1097, lon: 34.8408, s2cell: 1010100011101010010011110101100101001101110111011111011101001)\n"
     ]
    }
   ],
   "source": [
    "\n",
    "for i in range(3):\n",
    "    print(f\"(lat: {top_3['latitude'].values[i]}, lon: {top_3['longitude'].values[i]}, s2cell: {bin(top_3['s2cell'].values[i])[2:]})\")"
   ]
  },
  {
   "cell_type": "code",
   "execution_count": 6,
   "metadata": {},
   "outputs": [
    {
     "ename": "ValueError",
     "evalue": "Transform failed with error code 525: Mapbox error.",
     "output_type": "error",
     "traceback": [
      "\u001b[0;31m---------------------------------------------------------------------------\u001b[0m",
      "\u001b[0;31mValueError\u001b[0m                                Traceback (most recent call last)",
      "Cell \u001b[0;32mIn [6], line 2\u001b[0m\n\u001b[1;32m      1\u001b[0m \u001b[38;5;28;01mimport\u001b[39;00m \u001b[38;5;21;01mplotly\u001b[39;00m\u001b[38;5;21;01m.\u001b[39;00m\u001b[38;5;21;01mio\u001b[39;00m \u001b[38;5;28;01mas\u001b[39;00m \u001b[38;5;21;01mpio\u001b[39;00m\n\u001b[0;32m----> 2\u001b[0m \u001b[43mpio\u001b[49m\u001b[38;5;241;43m.\u001b[39;49m\u001b[43mwrite_image\u001b[49m\u001b[43m(\u001b[49m\u001b[43mfig\u001b[49m\u001b[43m,\u001b[49m\u001b[43m \u001b[49m\u001b[38;5;124;43m\"\u001b[39;49m\u001b[38;5;124;43mh10shareCar.png\u001b[39;49m\u001b[38;5;124;43m\"\u001b[39;49m\u001b[43m)\u001b[49m\n",
      "File \u001b[0;32m~/anaconda3/lib/python3.8/site-packages/plotly/io/_kaleido.py:267\u001b[0m, in \u001b[0;36mwrite_image\u001b[0;34m(fig, file, format, scale, width, height, validate, engine)\u001b[0m\n\u001b[1;32m    251\u001b[0m             \u001b[39mraise\u001b[39;00m \u001b[39mValueError\u001b[39;00m(\n\u001b[1;32m    252\u001b[0m                 \u001b[39m\"\"\"\u001b[39;00m\n\u001b[1;32m    253\u001b[0m \u001b[39mCannot infer image type from output path '{file}'.\u001b[39;00m\n\u001b[0;32m   (...)\u001b[0m\n\u001b[1;32m    261\u001b[0m                 )\n\u001b[1;32m    262\u001b[0m             )\n\u001b[1;32m    264\u001b[0m     \u001b[39m# Request image\u001b[39;00m\n\u001b[1;32m    265\u001b[0m     \u001b[39m# -------------\u001b[39;00m\n\u001b[1;32m    266\u001b[0m     \u001b[39m# Do this first so we don't create a file if image conversion fails\u001b[39;00m\n\u001b[0;32m--> 267\u001b[0m     img_data \u001b[39m=\u001b[39m to_image(\n\u001b[1;32m    268\u001b[0m         fig,\n\u001b[1;32m    269\u001b[0m         \u001b[39mformat\u001b[39;49m\u001b[39m=\u001b[39;49m\u001b[39mformat\u001b[39;49m,\n\u001b[1;32m    270\u001b[0m         scale\u001b[39m=\u001b[39;49mscale,\n\u001b[1;32m    271\u001b[0m         width\u001b[39m=\u001b[39;49mwidth,\n\u001b[1;32m    272\u001b[0m         height\u001b[39m=\u001b[39;49mheight,\n\u001b[1;32m    273\u001b[0m         validate\u001b[39m=\u001b[39;49mvalidate,\n\u001b[1;32m    274\u001b[0m         engine\u001b[39m=\u001b[39;49mengine,\n\u001b[1;32m    275\u001b[0m     )\n\u001b[1;32m    277\u001b[0m     \u001b[39m# Open file\u001b[39;00m\n\u001b[1;32m    278\u001b[0m     \u001b[39m# ---------\u001b[39;00m\n\u001b[1;32m    279\u001b[0m     \u001b[39mif\u001b[39;00m path \u001b[39mis\u001b[39;00m \u001b[39mNone\u001b[39;00m:\n\u001b[1;32m    280\u001b[0m         \u001b[39m# We previously failed to make sense of `file` as a pathlib object.\u001b[39;00m\n\u001b[1;32m    281\u001b[0m         \u001b[39m# Attempt to write to `file` as an open file descriptor.\u001b[39;00m\n",
      "File \u001b[0;32m~/anaconda3/lib/python3.8/site-packages/plotly/io/_kaleido.py:144\u001b[0m, in \u001b[0;36mto_image\u001b[0;34m(fig, format, width, height, scale, validate, engine)\u001b[0m\n\u001b[1;32m    141\u001b[0m \u001b[39m# Validate figure\u001b[39;00m\n\u001b[1;32m    142\u001b[0m \u001b[39m# ---------------\u001b[39;00m\n\u001b[1;32m    143\u001b[0m fig_dict \u001b[39m=\u001b[39m validate_coerce_fig_to_dict(fig, validate)\n\u001b[0;32m--> 144\u001b[0m img_bytes \u001b[39m=\u001b[39m scope\u001b[39m.\u001b[39;49mtransform(\n\u001b[1;32m    145\u001b[0m     fig_dict, \u001b[39mformat\u001b[39;49m\u001b[39m=\u001b[39;49m\u001b[39mformat\u001b[39;49m, width\u001b[39m=\u001b[39;49mwidth, height\u001b[39m=\u001b[39;49mheight, scale\u001b[39m=\u001b[39;49mscale\n\u001b[1;32m    146\u001b[0m )\n\u001b[1;32m    148\u001b[0m \u001b[39mreturn\u001b[39;00m img_bytes\n",
      "File \u001b[0;32m~/anaconda3/lib/python3.8/site-packages/kaleido/scopes/plotly.py:161\u001b[0m, in \u001b[0;36mPlotlyScope.transform\u001b[0;34m(self, figure, format, width, height, scale)\u001b[0m\n\u001b[1;32m    159\u001b[0m \u001b[39mif\u001b[39;00m code \u001b[39m!=\u001b[39m \u001b[39m0\u001b[39m:\n\u001b[1;32m    160\u001b[0m     message \u001b[39m=\u001b[39m response\u001b[39m.\u001b[39mget(\u001b[39m\"\u001b[39m\u001b[39mmessage\u001b[39m\u001b[39m\"\u001b[39m, \u001b[39mNone\u001b[39;00m)\n\u001b[0;32m--> 161\u001b[0m     \u001b[39mraise\u001b[39;00m \u001b[39mValueError\u001b[39;00m(\n\u001b[1;32m    162\u001b[0m         \u001b[39m\"\u001b[39m\u001b[39mTransform failed with error code \u001b[39m\u001b[39m{code}\u001b[39;00m\u001b[39m: \u001b[39m\u001b[39m{message}\u001b[39;00m\u001b[39m\"\u001b[39m\u001b[39m.\u001b[39mformat(\n\u001b[1;32m    163\u001b[0m             code\u001b[39m=\u001b[39mcode, message\u001b[39m=\u001b[39mmessage\n\u001b[1;32m    164\u001b[0m         )\n\u001b[1;32m    165\u001b[0m     )\n\u001b[1;32m    167\u001b[0m img \u001b[39m=\u001b[39m response\u001b[39m.\u001b[39mget(\u001b[39m\"\u001b[39m\u001b[39mresult\u001b[39m\u001b[39m\"\u001b[39m)\u001b[39m.\u001b[39mencode(\u001b[39m\"\u001b[39m\u001b[39mutf-8\u001b[39m\u001b[39m\"\u001b[39m)\n\u001b[1;32m    169\u001b[0m \u001b[39m# Base64 decode binary types\u001b[39;00m\n",
      "\u001b[0;31mValueError\u001b[0m: Transform failed with error code 525: Mapbox error."
     ]
    }
   ],
   "source": [
    "import plotly.io as pio\n",
    "pio.write_image(fig, \"h10shareCar.png\")\n"
   ]
  }
 ],
 "metadata": {
  "kernelspec": {
   "display_name": "Python 3.8.3 ('base')",
   "language": "python",
   "name": "python3"
  },
  "language_info": {
   "codemirror_mode": {
    "name": "ipython",
    "version": 3
   },
   "file_extension": ".py",
   "mimetype": "text/x-python",
   "name": "python",
   "nbconvert_exporter": "python",
   "pygments_lexer": "ipython3",
   "version": "3.8.3"
  },
  "orig_nbformat": 4,
  "vscode": {
   "interpreter": {
    "hash": "22ba5cfddb0696f4770d05d1928b184cd386e5d0688faf1f7407f95640ebfd7b"
   }
  }
 },
 "nbformat": 4,
 "nbformat_minor": 2
}
