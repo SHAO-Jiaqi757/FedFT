{
 "cells": [
  {
   "cell_type": "code",
   "execution_count": 10,
   "metadata": {},
   "outputs": [],
   "source": [
    "import random\n",
    "import numpy as np\n",
    "from math import exp,*log, sqrt, pi\n",
    "import matplotlib.pyplot as plt\n"
   ]
  },
  {
   "cell_type": "code",
   "execution_count": 186,
   "metadata": {},
   "outputs": [],
   "source": [
    "# client side revenue:\n",
    "client_valuation_type = \"uniform\"  # \"gaussian\" ...\n",
    "\n",
    "\n",
    "def client_valuation(type, x=0): \n",
    "    client_valuation_gaussian = lambda mu, sigma: 1/(sigma*sqrt(2*pi))*exp(-((x-mu)**2)/(2*sigma**2))\n",
    "    client_valuation_uniform = lambda low, high: random.uniform(low, high)\n",
    "    \n",
    "    if type == \"gaussian\": \n",
    "        return client_valuation_gaussian\n",
    "    elif type == \"uniform\":\n",
    "        return client_valuation_uniform"
   ]
  },
  {
   "cell_type": "code",
   "execution_count": 87,
   "metadata": {},
   "outputs": [
    {
     "data": {
      "text/plain": [
       "0.08835691901696863"
      ]
     },
     "execution_count": 87,
     "metadata": {},
     "output_type": "execute_result"
    }
   ],
   "source": [
    "client_valuation(\"uniform\")(0, 10)"
   ]
  },
  {
   "cell_type": "code",
   "execution_count": 88,
   "metadata": {},
   "outputs": [],
   "source": [
    "client_cost = lambda varepsilon: random.uniform(0.5,1.5)*exp(varepsilon)"
   ]
  },
  {
   "cell_type": "code",
   "execution_count": 89,
   "metadata": {},
   "outputs": [
    {
     "name": "stdout",
     "output_type": "stream",
     "text": [
      "0.0 <-> 0.5920999820640039\n",
      "0.1 <-> 1.6363043117150635\n",
      "0.2 <-> 1.1577777831841376\n",
      "0.30000000000000004 <-> 1.7866711216886535\n",
      "0.4 <-> 1.493889504378477\n",
      "0.5 <-> 1.7197420002344663\n",
      "0.6000000000000001 <-> 2.1842907118035764\n",
      "0.7000000000000001 <-> 2.2682961549191543\n",
      "0.8 <-> 2.3404798897135803\n",
      "0.9 <-> 2.9627306406370173\n",
      "1.0 <-> 2.465600237743268\n",
      "1.1 <-> 2.8907841594587924\n",
      "1.2000000000000002 <-> 4.22778688122611\n",
      "1.3 <-> 4.290124992799924\n",
      "1.4000000000000001 <-> 5.845780972669317\n",
      "1.5 <-> 4.2056322560946375\n",
      "1.6 <-> 6.386028905894216\n",
      "1.7000000000000002 <-> 3.5595623044454685\n",
      "1.8 <-> 8.933100833816809\n",
      "1.9000000000000001 <-> 9.822499097743151\n"
     ]
    }
   ],
   "source": [
    "for varepsilon in [0.1*i for i in range(20)]:\n",
    "    print(varepsilon, \"<->\", client_cost(varepsilon))"
   ]
  },
  {
   "cell_type": "code",
   "execution_count": 161,
   "metadata": {},
   "outputs": [],
   "source": [
    "# simulation\n",
    "client_number = 1000\n",
    "\n",
    "mu = 1 \n",
    "sigma = 1\n",
    "\n",
    "client_valuation_type = \"gaussian\"  \n",
    "clients_privacy_budget = np.sort(np.absolute(np.random.normal(mu, sigma, client_number)))\n",
    "# clients_privacy_budget = np.linspace(0.0, 4.0, num=client_number)\n",
    "clients_privacy_cost = [client_cost(clients_privacy_budget[i]) for i in range(client_number)]  "
   ]
  },
  {
   "cell_type": "code",
   "execution_count": 156,
   "metadata": {},
   "outputs": [
    {
     "data": {
      "text/plain": [
       "Text(0.5, 0, 'client_privacy_budget')"
      ]
     },
     "execution_count": 156,
     "metadata": {},
     "output_type": "execute_result"
    },
    {
     "data": {
      "image/png": "[encoded data removed]",
      "text/plain": [
       "<Figure size 432x288 with 1 Axes>"
      ]
     },
     "metadata": {
      "needs_background": "light"
     },
     "output_type": "display_data"
    },
    {
     "data": {
      "image/png": "[encoded data removed]",
      "text/plain": [
       "<Figure size 432x288 with 1 Axes>"
      ]
     },
     "metadata": {
      "needs_background": "light"
     },
     "output_type": "display_data"
    }
   ],
   "source": [
    "# plt.figure(0)\n",
    "# plt.hist(clients_privacy_budget, 30)\n",
    "# plt.xlabel(\"client_privacy_budget\")\n",
    "fig = plt.figure(1)\n",
    "plt.xlabel(\"clients_valuation\")\n",
    "\n",
    "plt.figure(2)\n",
    "plt.plot(clients_privacy_budget, clients_privacy_cost)\n",
    "plt.xlabel(\"client_privacy_budget\")\n",
    "\n",
    "# plt.xlabel(\"privacy_budget\")\n",
    "# plt.ylabel(\"privacy_cost\")"
   ]
  },
  {
   "cell_type": "code",
   "execution_count": 167,
   "metadata": {},
   "outputs": [
    {
     "name": "stdout",
     "output_type": "stream",
     "text": [
      "server_budget =  0.0 clients participate: 887 max_profit =  62.84573025554654 total_profit =  3957.3025449930688\n",
      "server_budget =  0.2 clients participate: 846 max_profit =  61.73129630077018 total_profit =  3771.232621307304\n",
      "server_budget =  0.4 clients participate: 798 max_profit =  62.66180576152207 total_profit =  3562.660166225641\n",
      "server_budget =  0.6000000000000001 clients participate: 736 max_profit =  61.05523152955425 total_profit =  3317.7651377220864\n",
      "server_budget =  0.8 clients participate: 674 max_profit =  60.332943888427806 total_profit =  3054.339665114887\n",
      "server_budget =  1.0 clients participate: 597 max_profit =  60.51120141140097 total_profit =  2781.8271977523095\n",
      "server_budget =  1.2000000000000002 clients participate: 508 max_profit =  58.71140954594796 total_profit =  2471.1994911993943\n",
      "server_budget =  1.4000000000000001 clients participate: 389 max_profit =  58.18079495163118 total_profit =  2138.426690119353\n",
      "server_budget =  1.6 clients participate: 325 max_profit =  58.37838690084412 total_profit =  1839.3251050830397\n",
      "server_budget =  1.8 clients participate: 264 max_profit =  57.05657678008283 total_profit =  1561.7845283273434\n",
      "server_budget =  2.0 clients participate: 200 max_profit =  55.178005604374356 total_profit =  1367.2248110568016\n",
      "server_budget =  2.2 clients participate: 151 max_profit =  53.062249482005925 total_profit =  1070.1644098328702\n",
      "server_budget =  2.4000000000000004 clients participate: 106 max_profit =  51.31275641354948 total_profit =  826.142343973601\n",
      "server_budget =  2.6 clients participate: 71 max_profit =  51.80790892418877 total_profit =  633.3454309381245\n",
      "server_budget =  2.8000000000000003 clients participate: 57 max_profit =  42.06993654396243 total_profit =  538.8846610048491\n",
      "server_budget =  3.0 clients participate: 45 max_profit =  44.78436795158942 total_profit =  398.4745426386569\n",
      "server_budget =  3.2 clients participate: 26 max_profit =  47.15292980533924 total_profit =  211.00866363320716\n",
      "server_budget =  3.4000000000000004 clients participate: 17 max_profit =  31.611523642236815 total_profit =  184.6421783148895\n",
      "server_budget =  3.6 clients participate: 8 max_profit =  14.914930606107891 total_profit =  52.192677474886025\n",
      "server_budget =  3.8000000000000003 clients participate: 4 max_profit =  25.684188225587896 total_profit =  52.01541570770304\n",
      "server_budget =  4.0 clients participate: 3 max_profit =  14.934223303703824 total_profit =  19.70569222767872\n",
      "server_budget =  4.2 clients participate: 1 max_profit =  3.840732624203241 total_profit =  3.840732624203241\n"
     ]
    },
    {
     "ename": "ValueError",
     "evalue": "zero-size array to reduction operation maximum which has no identity",
     "output_type": "error",
     "traceback": [
      "\u001b[0;31m---------------------------------------------------------------------------\u001b[0m",
      "\u001b[0;31mValueError\u001b[0m                                Traceback (most recent call last)",
      "\u001b[0;32m<ipython-input-167-644c113142f1>\u001b[0m in \u001b[0;36m<module>\u001b[0;34m\u001b[0m\n\u001b[1;32m      3\u001b[0m     \u001b[0mclients_enroll\u001b[0m \u001b[0;34m=\u001b[0m \u001b[0mlist\u001b[0m\u001b[0;34m(\u001b[0m\u001b[0mfilter\u001b[0m\u001b[0;34m(\u001b[0m\u001b[0;32mlambda\u001b[0m \u001b[0mi\u001b[0m\u001b[0;34m:\u001b[0m \u001b[0mclients_valuation\u001b[0m\u001b[0;34m[\u001b[0m\u001b[0mi\u001b[0m\u001b[0;34m]\u001b[0m \u001b[0;34m>\u001b[0m \u001b[0mclients_cost\u001b[0m\u001b[0;34m[\u001b[0m\u001b[0mi\u001b[0m\u001b[0;34m]\u001b[0m\u001b[0;34m,\u001b[0m \u001b[0mrange\u001b[0m\u001b[0;34m(\u001b[0m\u001b[0mclient_number\u001b[0m\u001b[0;34m)\u001b[0m\u001b[0;34m)\u001b[0m\u001b[0;34m)\u001b[0m\u001b[0;34m\u001b[0m\u001b[0;34m\u001b[0m\u001b[0m\n\u001b[1;32m      4\u001b[0m     \u001b[0mprofits\u001b[0m \u001b[0;34m=\u001b[0m \u001b[0;34m[\u001b[0m\u001b[0mclients_valuation\u001b[0m\u001b[0;34m[\u001b[0m\u001b[0mi\u001b[0m\u001b[0;34m]\u001b[0m\u001b[0;34m-\u001b[0m\u001b[0mclients_cost\u001b[0m\u001b[0;34m[\u001b[0m\u001b[0mi\u001b[0m\u001b[0;34m]\u001b[0m \u001b[0;32mfor\u001b[0m \u001b[0mi\u001b[0m \u001b[0;32min\u001b[0m \u001b[0mclients_enroll\u001b[0m\u001b[0;34m]\u001b[0m\u001b[0;34m\u001b[0m\u001b[0;34m\u001b[0m\u001b[0m\n\u001b[0;32m----> 5\u001b[0;31m     \u001b[0mmax_profit\u001b[0m \u001b[0;34m=\u001b[0m \u001b[0mnp\u001b[0m\u001b[0;34m.\u001b[0m\u001b[0mmax\u001b[0m\u001b[0;34m(\u001b[0m\u001b[0mprofits\u001b[0m\u001b[0;34m)\u001b[0m\u001b[0;34m\u001b[0m\u001b[0;34m\u001b[0m\u001b[0m\n\u001b[0m\u001b[1;32m      6\u001b[0m     \u001b[0msum_profit\u001b[0m \u001b[0;34m=\u001b[0m \u001b[0mnp\u001b[0m\u001b[0;34m.\u001b[0m\u001b[0msum\u001b[0m\u001b[0;34m(\u001b[0m\u001b[0mprofits\u001b[0m\u001b[0;34m)\u001b[0m\u001b[0;34m\u001b[0m\u001b[0;34m\u001b[0m\u001b[0m\n\u001b[1;32m      7\u001b[0m \u001b[0;34m\u001b[0m\u001b[0m\n",
      "\u001b[0;32m<__array_function__ internals>\u001b[0m in \u001b[0;36mamax\u001b[0;34m(*args, **kwargs)\u001b[0m\n",
      "\u001b[0;32m~/anaconda3/lib/python3.8/site-packages/numpy/core/fromnumeric.py\u001b[0m in \u001b[0;36mamax\u001b[0;34m(a, axis, out, keepdims, initial, where)\u001b[0m\n\u001b[1;32m   2752\u001b[0m     \u001b[0;36m5\u001b[0m\u001b[0;34m\u001b[0m\u001b[0;34m\u001b[0m\u001b[0m\n\u001b[1;32m   2753\u001b[0m     \"\"\"\n\u001b[0;32m-> 2754\u001b[0;31m     return _wrapreduction(a, np.maximum, 'max', axis, None, out,\n\u001b[0m\u001b[1;32m   2755\u001b[0m                           keepdims=keepdims, initial=initial, where=where)\n\u001b[1;32m   2756\u001b[0m \u001b[0;34m\u001b[0m\u001b[0m\n",
      "\u001b[0;32m~/anaconda3/lib/python3.8/site-packages/numpy/core/fromnumeric.py\u001b[0m in \u001b[0;36m_wrapreduction\u001b[0;34m(obj, ufunc, method, axis, dtype, out, **kwargs)\u001b[0m\n\u001b[1;32m     84\u001b[0m                 \u001b[0;32mreturn\u001b[0m \u001b[0mreduction\u001b[0m\u001b[0;34m(\u001b[0m\u001b[0maxis\u001b[0m\u001b[0;34m=\u001b[0m\u001b[0maxis\u001b[0m\u001b[0;34m,\u001b[0m \u001b[0mout\u001b[0m\u001b[0;34m=\u001b[0m\u001b[0mout\u001b[0m\u001b[0;34m,\u001b[0m \u001b[0;34m**\u001b[0m\u001b[0mpasskwargs\u001b[0m\u001b[0;34m)\u001b[0m\u001b[0;34m\u001b[0m\u001b[0;34m\u001b[0m\u001b[0m\n\u001b[1;32m     85\u001b[0m \u001b[0;34m\u001b[0m\u001b[0m\n\u001b[0;32m---> 86\u001b[0;31m     \u001b[0;32mreturn\u001b[0m \u001b[0mufunc\u001b[0m\u001b[0;34m.\u001b[0m\u001b[0mreduce\u001b[0m\u001b[0;34m(\u001b[0m\u001b[0mobj\u001b[0m\u001b[0;34m,\u001b[0m \u001b[0maxis\u001b[0m\u001b[0;34m,\u001b[0m \u001b[0mdtype\u001b[0m\u001b[0;34m,\u001b[0m \u001b[0mout\u001b[0m\u001b[0;34m,\u001b[0m \u001b[0;34m**\u001b[0m\u001b[0mpasskwargs\u001b[0m\u001b[0;34m)\u001b[0m\u001b[0;34m\u001b[0m\u001b[0;34m\u001b[0m\u001b[0m\n\u001b[0m\u001b[1;32m     87\u001b[0m \u001b[0;34m\u001b[0m\u001b[0m\n\u001b[1;32m     88\u001b[0m \u001b[0;34m\u001b[0m\u001b[0m\n",
      "\u001b[0;31mValueError\u001b[0m: zero-size array to reduction operation maximum which has no identity"
     ]
    }
   ],
   "source": [
    "\n",
    "for server_budget in [0.2*i for i in range(30)]:\n",
    "    clients_cost = [client_cost(server_budget) for i in range(client_number)]\n",
    "    clients_enroll = list(filter(lambda i: clients_valuation[i] > clients_cost[i], range(client_number)))\n",
    "    profits = [clients_valuation[i]-clients_cost[i] for i in clients_enroll] \n",
    "    max_profit = np.max(profits)\n",
    "    sum_profit = np.sum(profits)\n",
    "    \n",
    "    print(\"server_budget = \", server_budget, \"clients participate:\", len(clients_enroll), \"max_profit = \", max_profit, \"total_profit = \", sum_profit)"
   ]
  },
  {
   "cell_type": "code",
   "execution_count": 100,
   "metadata": {},
   "outputs": [],
   "source": [
    "server_revenue = lambda epoch: (epoch)"
   ]
  },
  {
   "cell_type": "code",
   "execution_count": 282,
   "metadata": {},
   "outputs": [
    {
     "name": "stdout",
     "output_type": "stream",
     "text": [
      "server_budget =  0.1 clients participate: 1000 total_profit =  1015.6901378486244\n",
      "server_budget =  0.2 clients participate: 1000 total_profit =  1133.4874120876295\n",
      "server_budget =  0.30000000000000004 clients participate: 1000 total_profit =  1122.7621835337156\n",
      "server_budget =  0.4 clients participate: 1000 total_profit =  1045.8460820614905\n",
      "server_budget =  0.5 clients participate: 1000 total_profit =  940.1215746841532\n",
      "server_budget =  0.6 clients participate: 1000 total_profit =  821.6996455102668\n",
      "server_budget =  0.7 clients participate: 1000 total_profit =  697.0304283006423\n",
      "server_budget =  0.7999999999999999 clients participate: 1000 total_profit =  568.9343963326662\n",
      "server_budget =  0.8999999999999999 clients participate: 990 total_profit =  439.04672776674784\n",
      "server_budget =  0.9999999999999999 clients participate: 805 total_profit =  326.603539377238\n",
      "server_budget =  1.0999999999999999 clients participate: 673 total_profit =  239.81149642012866\n",
      "server_budget =  1.2 clients participate: 541 total_profit =  173.98368926666373\n",
      "server_budget =  1.3 clients participate: 444 total_profit =  123.16114255921853\n",
      "server_budget =  1.4000000000000001 clients participate: 349 total_profit =  84.47388545521034\n",
      "server_budget =  1.5000000000000002 clients participate: 271 total_profit =  56.70584321951517\n",
      "server_budget =  1.6000000000000003 clients participate: 204 total_profit =  36.63367799345544\n"
     ]
    },
    {
     "data": {
      "text/plain": [
       "[<matplotlib.lines.Line2D at 0x7fc9cd7934c0>]"
      ]
     },
     "execution_count": 282,
     "metadata": {},
     "output_type": "execute_result"
    },
    {
     "data": {
      "image/png": "[encoded data removed]",
      "text/plain": [
       "<Figure size 432x288 with 1 Axes>"
      ]
     },
     "metadata": {
      "needs_background": "light"
     },
     "output_type": "display_data"
    }
   ],
   "source": [
    "# increasing server_budget\n",
    "epochs = 16\n",
    "client_number = 1000\n",
    "total_profits = []\n",
    "server_budget = 0.1\n",
    "server_budget_step = 0.1\n",
    "server_budgetx = [server_budget+i*server_budget_step for i in range(epochs)]\n",
    "clients_participating = []\n",
    "min_clients = 0.2*client_number\n",
    "np.random.seed = 1000\n",
    "client_cost_coe = np.random.uniform(0.5, 1.5, client_number)\n",
    "\n",
    "epoch = 1\n",
    "while epoch <= epochs:\n",
    "   \n",
    "    clients_cost = [client_cost_coe[i]*server_budget for i in range(client_number)]\n",
    "    # clients_valuation = [client_valuation(client_valuation_type, server_budget)(clients_privacy_budget[i], sigma) for i in range(client_number)]\n",
    "    clients_valuation = [exp(client_valuation(\"gaussian\", server_budget)(clients_privacy_budget[i], 1)) for i in range(client_number)]\n",
    "    \n",
    "    clients_enroll = list(filter(lambda i: clients_valuation[i] > clients_cost[i], range(client_number)))\n",
    "    if len(clients_enroll) < min_clients:\n",
    "        server_budget -= server_budget_step\n",
    "        continue\n",
    "    profits = [clients_valuation[i]-clients_cost[i] for i in clients_enroll] \n",
    "    clients_participating.append(len(clients_enroll))\n",
    "\n",
    "    # server_R = server_revenue(sqrt(len(clients_enroll)))\n",
    "    # max_profit = np.max(profits)\n",
    "    # active_f = lambda k:*log(1+exp(k))\n",
    "    active_f = lambda k: 1/(1+exp(-k)) \n",
    "    \n",
    "    sum_profit = active_f(epoch)*np.sum(profits)\n",
    "    # if epoch > 1 and sum_profit < total_profits[-1]:\n",
    "    #     server_budget -= server_budget_step\n",
    "    total_profits.append(sum_profit)\n",
    "    \n",
    "    print(\"server_budget = \", server_budget, \"clients participate:\", len(clients_enroll), \"total_profit = \", sum_profit)\n",
    "    server_budget += server_budget_step\n",
    "    epoch += 1\n",
    "\n",
    "plt.plot(server_budgetx, total_profits)"
   ]
  },
  {
   "cell_type": "code",
   "execution_count": 237,
   "metadata": {},
   "outputs": [
    {
     "name": "stdout",
     "output_type": "stream",
     "text": [
      "[1000, 1000, 1000, 1000, 1000, 1000, 999, 987, 959, 860, 730, 614, 535, 451, 397, 346]\n"
     ]
    }
   ],
   "source": [
    "print(clients_participating)"
   ]
  },
  {
   "cell_type": "code",
   "execution_count": 314,
   "metadata": {},
   "outputs": [
    {
     "data": {
      "image/png": "[encoded data removed]",
      "text/plain": [
       "<Figure size 432x288 with 1 Axes>"
      ]
     },
     "metadata": {
      "needs_background": "light"
     },
     "output_type": "display_data"
    }
   ],
   "source": [
    "# decreasing server_budget\n",
    "epochs = 16\n",
    "client_number = 1000\n",
    "clients_privacy_budget = np.sort(np.absolute(np.random.normal(mu, sigma, client_number)))\n",
    "total_profits = []\n",
    "clients_size = []\n",
    "server_budget = 3\n",
    "server_budget_step = 0.1\n",
    "server_budgetx = [server_budget-i*server_budget_step for i in range(epochs)]\n",
    "clients_participating = []\n",
    "min_clients = 0.2*client_number\n",
    "np.random.seed = 1000\n",
    "client_cost_coe = np.random.uniform(0.5, 1.5, client_number)\n",
    "\n",
    "epoch = 1\n",
    "while epoch <= epochs:\n",
    "    min_clients = 0.01*epoch*client_number \n",
    "    clients_cost = [client_cost_coe[i]*server_budget for i in range(client_number)]\n",
    "    # clients_valuation = [client_valuation(client_valuation_type, server_budget)(clients_privacy_budget[i], sigma) for i in range(client_number)]\n",
    "    clients_valuation = [exp(client_valuation(\"gaussian\", server_budget)(clients_privacy_budget[i], 1)) for i in range(client_number)]\n",
    "    \n",
    "    clients_enroll = list(filter(lambda i: clients_valuation[i] > clients_cost[i], range(client_number)))\n",
    "    if len(clients_enroll) < min_clients:\n",
    "        server_budget -= server_budget_step\n",
    "        # clients_participating.append(0)\n",
    "        continue\n",
    "    profits = [clients_valuation[i]-clients_cost[i] for i in clients_enroll] \n",
    "    clients_participating.append(len(clients_enroll))\n",
    "\n",
    "    # server_R = server_revenue(sqrt(len(clients_enroll)))\n",
    "    # max_profit = np.max(profits)\n",
    "    # active_f = lambda k:*log(1+exp(k))\n",
    "    active_f = lambda k: 1/(1+exp(-k)) \n",
    "    \n",
    "    sum_profit = active_f(epoch)*np.sum(profits)\n",
    "    # if epoch > 1 and sum_profit < total_profits[-1]:\n",
    "    #     server_budget -= server_budget_step\n",
    "    # total_profits.append(sum_profit)\n",
    "    clients_size.append(len(clients_enroll))\n",
    "    # print(\"server_budget = \", server_budget, \"clients participate:\", len(clients_enroll), \"total_profit = \", sum_profit)\n",
    "    # server_budget -= server_budget_step\n",
    "    epoch += 1\n",
    "plt.plot(server_budgetx, [0.05*i*client_number for i in range(epochs)], label=\"Minimal Required Clients\")\n",
    "plt.plot(server_budgetx, clients_participating, label=\"Participants\")\n",
    "plt.xlabel(\"Server budget\")\n",
    "plt.ylabel(\"Client Size\")\n",
    "plt.legend()\n",
    "plt.savefig(\"Participants\")"
   ]
  },
  {
   "cell_type": "code",
   "execution_count": 311,
   "metadata": {},
   "outputs": [
    {
     "name": "stdout",
     "output_type": "stream",
     "text": [
      "[66, 121, 212, 253, 309, 369, 442, 536, 626, 626, 741, 741, 875, 875, 961, 961]\n",
      "[3.0, 2.9, 2.8, 2.7, 2.6, 2.5, 2.4, 2.3, 2.2, 2.1, 2.0, 1.9, 1.7999999999999998, 1.7, 1.5999999999999999, 1.5]\n"
     ]
    }
   ],
   "source": [
    "print(clients_participating)\n",
    "print(server_budgetx)"
   ]
  },
  {
   "cell_type": "code",
   "execution_count": 313,
   "metadata": {},
   "outputs": [
    {
     "name": "stdout",
     "output_type": "stream",
     "text": [
      "2.25\n"
     ]
    }
   ],
   "source": [
    "print(np.average(server_budgetx))"
   ]
  },
  {
   "cell_type": "code",
   "execution_count": 293,
   "metadata": {},
   "outputs": [
    {
     "name": "stdout",
     "output_type": "stream",
     "text": [
      "server_budget =  1.0269562977782698e-15 clients participate: 578 total_profit =  349.1276535717289\n",
      "server_budget =  1.0269562977782698e-15 clients participate: 578 total_profit =  420.63745108295484\n",
      "server_budget =  1.0269562977782698e-15 clients participate: 578 total_profit =  454.91562437292896\n",
      "server_budget =  1.0269562977782698e-15 clients participate: 578 total_profit =  468.9749635843257\n",
      "server_budget =  1.0269562977782698e-15 clients participate: 578 total_profit =  474.3682713944896\n",
      "server_budget =  1.0269562977782698e-15 clients participate: 578 total_profit =  476.3837025256297\n",
      "server_budget =  1.0269562977782698e-15 clients participate: 578 total_profit =  477.1294539209281\n",
      "server_budget =  1.0269562977782698e-15 clients participate: 578 total_profit =  477.4043883345106\n",
      "server_budget =  1.0269562977782698e-15 clients participate: 578 total_profit =  477.50561079131535\n",
      "server_budget =  1.0269562977782698e-15 clients participate: 578 total_profit =  477.54285925292476\n",
      "server_budget =  1.0269562977782698e-15 clients participate: 578 total_profit =  477.5565636583568\n",
      "server_budget =  1.0269562977782698e-15 clients participate: 578 total_profit =  477.5616054252779\n",
      "server_budget =  1.0269562977782698e-15 clients participate: 578 total_profit =  477.5634602144606\n",
      "server_budget =  1.0269562977782698e-15 clients participate: 578 total_profit =  477.5641425568936\n",
      "server_budget =  1.0269562977782698e-15 clients participate: 578 total_profit =  477.5643935771372\n",
      "server_budget =  1.0269562977782698e-15 clients participate: 578 total_profit =  477.56448592239053\n"
     ]
    },
    {
     "data": {
      "text/plain": [
       "[<matplotlib.lines.Line2D at 0x7fc9cff0fb80>]"
      ]
     },
     "execution_count": 293,
     "metadata": {},
     "output_type": "execute_result"
    },
    {
     "data": {
      "image/png": "[encoded data removed]",
      "text/plain": [
       "<Figure size 432x288 with 1 Axes>"
      ]
     },
     "metadata": {
      "needs_background": "light"
     },
     "output_type": "display_data"
    }
   ],
   "source": [
    "# decreasing server_budget\n",
    "epochs = 16\n",
    "client_number = 1000\n",
    "clients_privacy_budget = np.sort(np.absolute(np.random.normal(mu, sigma, client_number)))\n",
    "total_profits = []\n",
    "server_budget = 5\n",
    "server_budget_step = 0.1\n",
    "server_budgetx = [server_budget+i*server_budget_step for i in range(epochs)]\n",
    "clients_participating = []\n",
    "min_clients = 0.5*client_number\n",
    "np.random.seed = 1000\n",
    "client_cost_coe = np.random.uniform(0.5, 1.5, client_number)\n",
    "\n",
    "epoch = 1\n",
    "while epoch <= epochs:\n",
    "   \n",
    "    clients_cost = [max(-(clients_privacy_budget[i] - server_budget), 0) + sqrt(server_budget) for i in range(client_number)]\n",
    "    # clients_valuation = [client_valuation(client_valuation_type, server_budget)(clients_privacy_budget[i], sigma) for i in range(client_number)]\n",
    "    clients_valuation = [2 ((client_valuation(\"gaussian\", server_budget)(clients_privacy_budget[i], 0.21))) for i in range(client_number)]\n",
    "    \n",
    "    clients_enroll = list(filter(lambda i: clients_valuation[i] > clients_cost[i], range(client_number)))\n",
    "    if len(clients_enroll) < min_clients:\n",
    "        server_budget -= server_budget_step\n",
    "        continue\n",
    "    profits = [clients_valuation[i]-clients_cost[i] for i in clients_enroll] \n",
    "    clients_participating.append(len(clients_enroll))\n",
    "\n",
    "    # server_R = server_revenue(sqrt(len(clients_enroll)))\n",
    "    # max_profit = np.max(profits)\n",
    "    # active_f = lambda k:*log(1+exp(k))\n",
    "    active_f = lambda k: 1/(1+exp(-k)) \n",
    "    \n",
    "    sum_profit = active_f(epoch)*np.sum(profits)\n",
    "    # if epoch > 1 and sum_profit < total_profits[-1]:\n",
    "    #     server_budget -= server_budget_step\n",
    "    total_profits.append(sum_profit)\n",
    "    \n",
    "    print(\"server_budget = \", server_budget, \"clients participate:\", len(clients_enroll), \"total_profit = \", sum_profit)\n",
    "    # server_budget -= server_budget_step\n",
    "    epoch += 1\n",
    "\n",
    "plt.plot(server_budgetx, total_profits)"
   ]
  },
  {
   "cell_type": "markdown",
   "metadata": {},
   "source": [
    "## Plural Query Results"
   ]
  },
  {
   "cell_type": "code",
   "execution_count": 1,
   "metadata": {},
   "outputs": [
    {
     "name": "stdout",
     "output_type": "stream",
     "text": [
      "Using matplotlib backend: MacOSX\n"
     ]
    }
   ],
   "source": [
    "import pickle, time\n",
    "import matplotlib.pyplot as plt\n",
    "from utils import sort_by_frequency\n",
    "from matplotlib.patches import Rectangle\n",
    "\n",
    "%matplotlib"
   ]
  },
  {
   "cell_type": "code",
   "execution_count": 119,
   "metadata": {},
   "outputs": [],
   "source": [
    "from cProfile import label\n",
    "\n",
    "from importlib_resources import path\n",
    "\n",
    "\n",
    "def visualize_frequency(array, hhs, pem_hh=[]):\n",
    "    fig, ax = plt.subplots()\n",
    "\n",
    "\n",
    "    #display plot\n",
    "\n",
    "    ax.set_xlabel(\"data value\")\n",
    "    ax.set_ylabel(\"count\")\n",
    "    # plt.plot(array) \n",
    "\n",
    "    array_max = max(array)\n",
    "    array_min = min(array)\n",
    "\n",
    "    mode_lower = hhs[0]\n",
    "    mode_upper = mode_lower +2**(scaler+1)-1\n",
    "    counts, bins, patches = plt.hist(array, bins=90, range=(array_min, array_max), facecolor='#2ab0ff', edgecolor='#e0e0e0', linewidth=0.5, alpha=0.7)\n",
    "\n",
    "    counts = counts.astype('int') # it MUST be integer\n",
    "    # Good old loop. Choose colormap of your taste\n",
    "    for i in range(len(patches)):\n",
    "        patch_low = patches[i].xy[0] \n",
    "        patch_high = patches[i].xy[0] + patches[i].get_width()\n",
    "        if patch_low>= mode_lower and patch_high <= mode_upper:\n",
    "            patches[i].set_facecolor(\"red\")\n",
    "        elif patch_low < mode_lower and patch_high > mode_lower:\n",
    "            ax.add_patch(Rectangle((mode_lower, 0), patch_high - mode_lower, patches[i].get_height(), facecolor=\"red\", label=\"mode range\"))\n",
    "        elif patch_low < mode_upper and patch_high > mode_upper:\n",
    "            ax.add_patch(Rectangle((patch_low, 0), mode_upper - patch_low, patches[i].get_height(), facecolor=\"red\"))\n",
    "        else:\n",
    "            patches[i].set_facecolor(plt.cm.viridis(counts[i]/max(counts)))\n",
    "\n",
    "\n",
    "    # counts, bins, _ = ax.hist(array, bins=10, range=(array_min, array_max))\n",
    "    # print(bins)\n",
    "    # plt.plot([min(scaled_hhs), min(scaled_hhs),max(scaled_hhs) , max(scaled_hhs)], [0, max(counts),max(counts), 0], 'y') \n",
    "\n",
    "    # for hh in hhs:\n",
    "    #     if hh > array_max: continue\n",
    "    #     #add rectangle to plot\n",
    "    #     ax.add_patch(Rectangle((hh, 0), 2**(scaler+1)-1 , max(counts),\n",
    "    #                 # edgecolor = 'pink',\n",
    "    #                 facecolor = 'red',\n",
    "    #                 fill=True\n",
    "    #                 ))\n",
    "    #     print(hh, hh+ 2**(scaler+1)-1)\n",
    "\n",
    "    # for hh in pem_hh:\n",
    "    #     if hh > array_max: continue\n",
    "    #     #add rectangle to plot\n",
    "    #     ax.add_patch(Rectangle((hh, 0), 2**(scaler+1)-1 , max(counts), alpha=0.3,\n",
    "    #                 # edgecolor = 'pink',\n",
    "    #                 facecolor = 'teal',\n",
    "    #                 fill=True\n",
    "    #                 ))\n",
    "    #     print(hh, hh+2**(scaler+1)-1) \n",
    "    \n",
    "    # if pem_hh:\n",
    "    #     ax.add_patch(Rectangle((0, 0), 0,  0, alpha=0.3,\n",
    "    #                     # edgecolor = 'pink',\n",
    "    #                     facecolor = 'teal',\n",
    "    #                     fill=True, label=\"PEM\"\n",
    "    #                     ))\n",
    "    ax.text(mode_lower, y = max(counts), s = f\"[{mode_lower}, {mode_upper}]\")\n",
    "    \n",
    "    ax.legend()\n",
    "    plt.savefig(f\"./results/mode_query_pois_{scaler}.png\", dpi=1024)\n"
   ]
  },
  {
   "cell_type": "code",
   "execution_count": 120,
   "metadata": {},
   "outputs": [],
   "source": [
    "# load results\n",
    "with open(\"plural.txt\", 'rb') as f:\n",
    "    result = pickle.load(f)\n",
    "predict_heavy_hitters, clients = result\n",
    "# pem_hh = [7128, 7129]\n",
    "scaler = 6\n",
    "\n",
    "patches = visualize_frequency(clients, predict_heavy_hitters )"
   ]
  },
  {
   "cell_type": "markdown",
   "metadata": {},
   "source": [
    "## Experiements & Results of different model"
   ]
  },
  {
   "cell_type": "code",
   "execution_count": 2,
   "metadata": {},
   "outputs": [],
   "source": [
    "import pickle\n",
    "import pandas as pd\n",
    "import numpy as np\n",
    "from PIL import Image\n",
    "import sys, os\n",
    "import matplotlib.pyplot as plt\n"
   ]
  },
  {
   "cell_type": "markdown",
   "metadata": {},
   "source": [
    "### FedFT var bits_per_iter"
   ]
  },
  {
   "cell_type": "code",
   "execution_count": 60,
   "metadata": {},
   "outputs": [],
   "source": [
    "path = f'results/exp_bits.txt'\n",
    "\n",
    "with open(path, 'rb') as f:\n",
    "    results = (pickle.load(f))\n",
    "\n",
    "\n",
    "# for model in models:\n",
    "#     print(model)\n",
    "#     for i in range(3):\n",
    "#         if drop_results[model][i] == 0: \n",
    "#             print('----')\n",
    "#             continue\n",
    "#         print(f'{(drop_results[model][i+1]-drop_results[model][0])*100/drop_results[model][0]:.2f}%')\n",
    "        "
   ]
  },
  {
   "cell_type": "code",
   "execution_count": 61,
   "metadata": {},
   "outputs": [
    {
     "data": {
      "text/plain": [
       "{'XTF': {1: [3.7, 0.8375], 2: [3.7, 0.87], 4: [3.7, 0.7475], 8: [3.7, 0.6225]}}"
      ]
     },
     "execution_count": 61,
     "metadata": {},
     "output_type": "execute_result"
    }
   ],
   "source": [
    "results"
   ]
  },
  {
   "cell_type": "code",
   "execution_count": 27,
   "metadata": {},
   "outputs": [],
   "source": [
    "from math import exp"
   ]
  },
  {
   "cell_type": "code",
   "execution_count": 78,
   "metadata": {},
   "outputs": [
    {
     "data": {
      "image/png": "[encoded data removed]",
      "text/plain": [
       "<Figure size 640x480 with 1 Axes>"
      ]
     },
     "metadata": {},
     "output_type": "display_data"
    }
   ],
   "source": [
    "bits = np.array(list(results[\"XTF\"].keys()))\n",
    "bits = 64/bits\n",
    "F1 = np.array([0.7225, 0.645, 0.4875, 0.2625])\n",
    "complexity = np.array([7.45, 7.20, 6.94, 6.70])\n",
    "complexity_norm = [ (i-np.min(complexity))/(np.max(complexity) - np.min(complexity)) for i in complexity]\n",
    "\n",
    "complexity_diff = 2*F1 - complexity_norm\n",
    "with open(\"results/exp_bits_99413.txt\", \"rb\") as f:\n",
    "    F1_large, complexity_diff_large = pickle.load(f)\n",
    "with open(\"results/exp_bits_2184.txt\", \"rb\") as f:\n",
    "    F1_small, complexity_diff_small = pickle.load(f)\n",
    "# plt.plot(bits, F1)\n",
    "plt.ylabel(\"utility\")\n",
    "plt.xlabel(\"g\")\n",
    "plt.grid(True)\n",
    "plt.plot(bits, complexity_diff_large, '+--', label=\"SynSet1\")\n",
    "plt.plot(bits, complexity_diff_small[:-2], \"*--\", label=\"SynSet2\")\n",
    "plt.legend()\n",
    "plt.savefig('opt_g.png', dpi=1024)"
   ]
  },
  {
   "cell_type": "code",
   "execution_count": 139,
   "metadata": {},
   "outputs": [
    {
     "data": {
      "text/plain": [
       "{'XTF': {1: [3.7, 0.7225],\n",
       "  2: [3.7, 0.645],\n",
       "  4: [3.7, 0.4875],\n",
       "  8: [3.7, 0.2625],\n",
       "  16: 0,\n",
       "  32: 0}}"
      ]
     },
     "execution_count": 139,
     "metadata": {},
     "output_type": "execute_result"
    }
   ],
   "source": [
    "results"
   ]
  },
  {
   "cell_type": "markdown",
   "metadata": {},
   "source": [
    "### FedFT, PEM, TrieHH connection failure rate ploting"
   ]
  },
  {
   "cell_type": "code",
   "execution_count": 5,
   "metadata": {},
   "outputs": [],
   "source": [
    "for n in [2716, 4642, 9004, 90740, 99411]:\n",
    "    dir = f\"results/connectionloss_{n}\"\n",
    "    # connectionloss = [0.0, 0.2,  0.4,  0.6]\n",
    "\n",
    "    # models = {\"FedFT\": lambda x: f\"fedft_cls{x}_F1\", 'PEM': lambda x: f\"pem_cls{x}_F1\", \"TrieHH\": lambda x: f\"triehh_cls{x}_F1\"}\n",
    "\n",
    "    # results = {}\n",
    "    # for cnls in connectionloss:\n",
    "    #     for model in models:\n",
    "    #         path = models[model](cnls)\n",
    "    #         with open(os.path.join(dir, path), 'rb') as f:\n",
    "    #             x, y = (pickle.load(f))\n",
    "    #         results[model] = {}\n",
    "    #         results[model]['x'] = x\n",
    "    #         results[model]['y'] = y\n",
    "    #         fig = plt.figure()\n",
    "\n",
    "    #     color = ['red', 'teal', \"lightslategrey\"]\n",
    "\n",
    "    #     for i, model in enumerate(list(models.keys())):\n",
    "    #         if model == \"PEM\":\n",
    "    #             model_name = \"PEM (GTU)\"\n",
    "    #         elif model == \"FedFT\":\n",
    "    #             model_name = \"FedFT (XTF)\"\n",
    "    #         else:\n",
    "    #             model_name = model\n",
    "    #         plt.plot(results[model]['x'], results[model]['y'], '|-', color=color[i], label=model_name)\n",
    "    #     plt.legend(loc=\"upper left\")\n",
    "    #     plt.xlabel(r\"$\\varepsilon$\")\n",
    "    #     plt.ylabel(\"F1 score\")\n",
    "    #     plt.title(f\"Connection Failure Rate = {cnls}\")\n",
    "    #     plt.savefig(os.path.join(dir, f\"connectionloss_{cnls}.png\"), dpi=200)\n",
    "\n",
    "    figure_paths  = []\n",
    "    \n",
    "    for file in os.listdir(dir):\n",
    "        # print(file)\n",
    "        if file.startswith(\"connection\"):\n",
    "            figure_paths.append(os.path.join(dir, file))\n",
    "\n",
    "    figure_paths = sorted(figure_paths)\n",
    "    concatenated = Image.fromarray(\n",
    "    np.concatenate(\n",
    "        [np.array(Image.open(x)) for x in figure_paths],\n",
    "        axis=1\n",
    "    )\n",
    "    )\n",
    "    concatenated.save(os.path.join(dir, f\"concate_connectionloss_{n}.png\"))\n",
    "\n"
   ]
  },
  {
   "cell_type": "code",
   "execution_count": 3,
   "metadata": {},
   "outputs": [],
   "source": [
    "import numpy as np\n",
    "from PIL import Image\n",
    "concatenated = Image.fromarray(\n",
    "np.concatenate(\n",
    "    [np.array(Image.open(x)) for x in ['results/zipfs_2.png', 'results/zipfs_1.png']],\n",
    "    axis=1\n",
    ")\n",
    ")\n",
    "concatenated.save(os.path.join('results', f\"zipfs_0.png\"))\n"
   ]
  },
  {
   "cell_type": "markdown",
   "metadata": {},
   "source": [
    "### FedFT, PEM, TrieHH drop rate with connection failure"
   ]
  },
  {
   "cell_type": "code",
   "execution_count": 6,
   "metadata": {},
   "outputs": [
    {
     "ename": "NameError",
     "evalue": "name 'results' is not defined",
     "output_type": "error",
     "traceback": [
      "\u001b[0;31m---------------------------------------------------------------------------\u001b[0m",
      "\u001b[0;31mNameError\u001b[0m                                 Traceback (most recent call last)",
      "Cell \u001b[0;32mIn [6], line 3\u001b[0m\n\u001b[1;32m      1\u001b[0m connectionloss \u001b[39m=\u001b[39m [\u001b[39m0.0\u001b[39m, \u001b[39m0.2\u001b[39m, \u001b[39m0.4\u001b[39m, \u001b[39m0.6\u001b[39m]\n\u001b[1;32m      2\u001b[0m k \u001b[39m=\u001b[39m\u001b[39m9\u001b[39m\n\u001b[0;32m----> 3\u001b[0m \u001b[39mprint\u001b[39m(results[\u001b[39m\"\u001b[39m\u001b[39mFedFT\u001b[39m\u001b[39m\"\u001b[39m][\u001b[39m'\u001b[39m\u001b[39mx\u001b[39m\u001b[39m'\u001b[39m][k])\n\u001b[1;32m      7\u001b[0m \u001b[39mfor\u001b[39;00m n \u001b[39min\u001b[39;00m [\u001b[39m2716\u001b[39m, \u001b[39m4642\u001b[39m, \u001b[39m9004\u001b[39m, \u001b[39m90740\u001b[39m, \u001b[39m99411\u001b[39m]:\n\u001b[1;32m      8\u001b[0m     \u001b[39mprint\u001b[39m(\u001b[39m\"\u001b[39m\u001b[39mn = \u001b[39m\u001b[39m\"\u001b[39m, n)\n",
      "\u001b[0;31mNameError\u001b[0m: name 'results' is not defined"
     ]
    }
   ],
   "source": [
    "connectionloss = [0.0, 0.2, 0.4, 0.6]\n",
    "k =9\n",
    "print(results[\"FedFT\"]['x'][k])\n",
    "\n",
    "\n",
    "\n",
    "for n in [2716, 4642, 9004, 90740, 99411]:\n",
    "    print(\"n = \", n)\n",
    "    dir = f'results/connectionloss_{n}'\n",
    "    drop_results = {}\n",
    "    for cnls in connectionloss:\n",
    "        \n",
    "        for model in models:\n",
    "            path = models[model](cnls)\n",
    "            with open(os.path.join(dir, path), 'rb') as f:\n",
    "                x, y = (pickle.load(f))\n",
    "            drop_results[model] = drop_results.get(model, []) + [y[k]]\n",
    "\n",
    "    for model in models:\n",
    "        print(model)\n",
    "        for i in range(3):\n",
    "            if drop_results[model][i] == 0: \n",
    "                print('----')\n",
    "                continue\n",
    "            print(f'{(drop_results[model][i+1]-drop_results[model][0])*100/drop_results[model][0]:.2f}%')\n",
    "            "
   ]
  },
  {
   "cell_type": "code",
   "execution_count": 98,
   "metadata": {},
   "outputs": [],
   "source": [
    "def results_to_csv(exp_name):\n",
    "    with open(f\"./results/{exp_name}.txt\", 'rb') as f:\n",
    "        results = pickle.load(f)\n",
    "    models = list(results.keys())\n",
    "    connectionloss = [i for i in results[models[0]].keys()]\n",
    "\n",
    "    df = pd.DataFrame([\n",
    "        (model, ctl, results[model][ctl]) for ctl in connectionloss for model in models\n",
    "    ], columns=[\"model\", \"connectionloss\", 'results'])\n",
    "    vars = df.results[0][0]\n",
    "    for var in vars:\n",
    "        df[f\"var={var}\"] = None\n",
    "    # df\n",
    "    rows = len(df)\n",
    "    for row in range(rows):\n",
    "        for i, var in enumerate(vars):\n",
    "            df.at[row,f\"var={var}\"] = df.results[row][1][i]\n",
    "    del df[\"results\"]\n",
    "    df.to_csv(f\"./results/{exp_name}.csv\")\n"
   ]
  },
  {
   "cell_type": "code",
   "execution_count": 3,
   "metadata": {},
   "outputs": [],
   "source": [
    "exp_2184 = {}\n",
    "exp_99413 = {}\n",
    "\n",
    "with open(f\"./results/exp_zipf_2184.txt\", 'rb') as f:\n",
    "        results = pickle.load(f)\n",
    "models = list(results.keys())\n"
   ]
  },
  {
   "cell_type": "code",
   "execution_count": 4,
   "metadata": {},
   "outputs": [],
   "source": [
    "for model in models:\n",
    "    exp_2184[model] = {\"x\": None, \"y\": None}\n",
    "    exp_2184[model]['x'] = results[model][0][0]\n",
    "    exp_2184[model]['y'] = results[model][0][1]"
   ]
  },
  {
   "cell_type": "code",
   "execution_count": 5,
   "metadata": {},
   "outputs": [],
   "source": [
    "with open(f\"./results/exp_zipf_99413.txt\", 'rb') as f:\n",
    "        results = pickle.load(f)\n",
    "for model in models:\n",
    "    exp_99413[model] = {\"x\": None, \"y\": None}\n",
    "    exp_99413[model]['x'] = results[model][0][0]\n",
    "    exp_99413[model]['y'] = results[model][0][1]      "
   ]
  },
  {
   "cell_type": "code",
   "execution_count": 6,
   "metadata": {},
   "outputs": [],
   "source": [
    "models.append(\"TrieHH\")\n",
    "triehh_99413 = [[0.5, 1.1, 1.7000000000000002, 2.3000000000000003, 2.9000000000000004, 3.5000000000000004, 4.1000000000000005, 4.7, 5.3, 5.8999999999999995, 6.499999999999999, 7.099999999999999, 7.699999999999998, 8.299999999999999, 8.899999999999999], [0.23288888888888878, 0.461090909090909, 0.5595151515151519, 0.6808391608391612, 0.7671794871794871, 0.8336703296703293, 0.8777289377289371, 0.9111666666666659, 0.9506190476190471, 0.9584999999999999, 0.9536666666666668, 0.9475, 0.9775, 0.945, 0.955]]\n",
    "exp_99413[\"TrieHH\"] = {}\n",
    "exp_99413[\"TrieHH\"]['x'] = triehh_99413[0]\n",
    "exp_99413[\"TrieHH\"]['y'] = triehh_99413[1]\n",
    "\n",
    "triehh_2184 = [[0.5, 1.1, 1.7000000000000002, 2.3000000000000003, 2.9000000000000004, 3.5000000000000004, 4.1000000000000005, 4.7, 5.3, 5.8999999999999995, 6.499999999999999, 7.099999999999999, 7.699999999999998, 8.299999999999999, 8.899999999999999], [0.0, 0.0, 0.0, 0.0, 0.0, 0.0, 0.0, 0.0044444444444444444, 0.008888888888888889, 0.06222222222222224, 0.0666666666666667, 0.14222222222222228, 0.18222222222222217, 0.20888888888888876, 0.22222222222222204]]\n",
    "exp_2184[\"TrieHH\"] = {}\n",
    "exp_2184[\"TrieHH\"]['x'] = triehh_2184[0]\n",
    "exp_2184[\"TrieHH\"]['y'] = triehh_2184[1]\n"
   ]
  },
  {
   "cell_type": "code",
   "execution_count": 16,
   "metadata": {},
   "outputs": [
    {
     "data": {
      "image/png": "[encoded data removed]",
      "text/plain": [
       "<Figure size 640x480 with 1 Axes>"
      ]
     },
     "metadata": {},
     "output_type": "display_data"
    }
   ],
   "source": [
    "color = ['teal', 'yellowgreen', \"violet\", 'red', \"lightslategrey\"]\n",
    "\n",
    "for i in range(len(models)):\n",
    "        if models[i] == \"PEM\":\n",
    "            model_name = \"PEM (GTU)\"\n",
    "        elif models[i] == \"XTF\":\n",
    "            model_name = \"FedFT (XTF)\"\n",
    "        else:\n",
    "            model_name = models[i]\n",
    "        # fig = plt.figure(1)\n",
    "        plt.plot(exp_2184[models[i]]['x'][3:], exp_2184[models[i]]['y'][3:], '.--', color=color[i], label=model_name)\n",
    "        # fig = plt.figure(2)\n",
    "        plt.plot(exp_2184[models[i]]['x'][3:], exp_99413[models[i]]['y'][3:], '*-.', color=color[i], label=model_name)\n",
    "\n",
    "plt.legend(loc=\"lower right\")\n",
    "plt.xlabel(r\"$\\varepsilon$\")\n",
    "plt.ylabel(\"F1 score\")\n",
    "plt.savefig(\"./results/zipfs.png\", dpi=200)"
   ]
  },
  {
   "cell_type": "code",
   "execution_count": 91,
   "metadata": {},
   "outputs": [],
   "source": [
    "a = []\n",
    "for value in exp_2184.values():\n",
    "    a.append(value['y'])"
   ]
  },
  {
   "cell_type": "code",
   "execution_count": 92,
   "metadata": {},
   "outputs": [],
   "source": [
    "a = [i[6] for i in a] # 4.7"
   ]
  },
  {
   "cell_type": "code",
   "execution_count": 93,
   "metadata": {},
   "outputs": [
    {
     "name": "stdout",
     "output_type": "stream",
     "text": [
      "['PEM', 'GTF', 'XTU', 'XTF', 'TrieHH']\n",
      "f1: , [0.3669761904761904, 0.4175, 0.5425, 0.6325, 0.0]\n"
     ]
    }
   ],
   "source": [
    "print(models)\n",
    "print('f1: ,', a )\n",
    "f1 = {}\n",
    "for i, model in enumerate(models):\n",
    "    f1[model] = a[i]"
   ]
  },
  {
   "cell_type": "code",
   "execution_count": 95,
   "metadata": {},
   "outputs": [
    {
     "data": {
      "text/plain": [
       "10.75"
      ]
     },
     "execution_count": 95,
     "metadata": {},
     "output_type": "execute_result"
    }
   ],
   "source": [
    "72.35-13.77-47.83"
   ]
  },
  {
   "cell_type": "code",
   "execution_count": 94,
   "metadata": {},
   "outputs": [
    {
     "name": "stdout",
     "output_type": "stream",
     "text": [
      "XTU &  47.83 %\n",
      "GTF &  13.77 %\n",
      "XTF &  72.35 %\n"
     ]
    }
   ],
   "source": [
    "# GTU (PEM) vs XTU\n",
    "print(f\"XTU & \", f'{(f1[\"XTU\"]- f1[\"PEM\"])*100/f1[\"PEM\"] :.2f}', \"%\")\n",
    "print(f\"GTF & \", f'{(f1[\"GTF\"]- f1[\"PEM\"])*100/f1[\"PEM\"] :.2f}', \"%\")\n",
    "print(f\"XTF & \", f'{(f1[\"XTF\"]- f1[\"PEM\"])*100/f1[\"PEM\"] :.2f}', \"%\")\n"
   ]
  }
 ],
 "metadata": {
  "interpreter": {
   "hash": "22ba5cfddb0696f4770d05d1928b184cd386e5d0688faf1f7407f95640ebfd7b"
  },
  "kernelspec": {
   "display_name": "Python 3.8.3 ('base')",
   "language": "python",
   "name": "python3"
  },
  "language_info": {
   "codemirror_mode": {
    "name": "ipython",
    "version": 3
   },
   "file_extension": ".py",
   "mimetype": "text/x-python",
   "name": "python",
   "nbconvert_exporter": "python",
   "pygments_lexer": "ipython3",
   "version": "3.8.3"
  },
  "orig_nbformat": 4
 },
 "nbformat": 4,
 "nbformat_minor": 2
}
