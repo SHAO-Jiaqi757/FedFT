{
 "cells": [
  {
   "cell_type": "code",
   "execution_count": 1,
   "metadata": {},
   "outputs": [],
   "source": [
    "import random\n",
    "import numpy as np\n",
    "from math import exp, log, sqrt, pi\n",
    "import matplotlib.pyplot as plt\n"
   ]
  },
  {
   "cell_type": "code",
   "execution_count": 186,
   "metadata": {},
   "outputs": [],
   "source": [
    "# client side revenue:\n",
    "client_valuation_type = \"uniform\"  # \"gaussian\" ...\n",
    "\n",
    "\n",
    "def client_valuation(type, x=0): \n",
    "    client_valuation_gaussian = lambda mu, sigma: 1/(sigma*sqrt(2*pi))*exp(-((x-mu)**2)/(2*sigma**2))\n",
    "    client_valuation_uniform = lambda low, high: random.uniform(low, high)\n",
    "    \n",
    "    if type == \"gaussian\": \n",
    "        return client_valuation_gaussian\n",
    "    elif type == \"uniform\":\n",
    "        return client_valuation_uniform"
   ]
  },
  {
   "cell_type": "code",
   "execution_count": 87,
   "metadata": {},
   "outputs": [
    {
     "data": {
      "text/plain": [
       "0.08835691901696863"
      ]
     },
     "execution_count": 87,
     "metadata": {},
     "output_type": "execute_result"
    }
   ],
   "source": [
    "client_valuation(\"uniform\")(0, 10)"
   ]
  },
  {
   "cell_type": "code",
   "execution_count": 88,
   "metadata": {},
   "outputs": [],
   "source": [
    "client_cost = lambda varepsilon: random.uniform(0.5,1.5)*exp(varepsilon)"
   ]
  },
  {
   "cell_type": "code",
   "execution_count": 89,
   "metadata": {},
   "outputs": [
    {
     "name": "stdout",
     "output_type": "stream",
     "text": [
      "0.0 <-> 0.5920999820640039\n",
      "0.1 <-> 1.6363043117150635\n",
      "0.2 <-> 1.1577777831841376\n",
      "0.30000000000000004 <-> 1.7866711216886535\n",
      "0.4 <-> 1.493889504378477\n",
      "0.5 <-> 1.7197420002344663\n",
      "0.6000000000000001 <-> 2.1842907118035764\n",
      "0.7000000000000001 <-> 2.2682961549191543\n",
      "0.8 <-> 2.3404798897135803\n",
      "0.9 <-> 2.9627306406370173\n",
      "1.0 <-> 2.465600237743268\n",
      "1.1 <-> 2.8907841594587924\n",
      "1.2000000000000002 <-> 4.22778688122611\n",
      "1.3 <-> 4.290124992799924\n",
      "1.4000000000000001 <-> 5.845780972669317\n",
      "1.5 <-> 4.2056322560946375\n",
      "1.6 <-> 6.386028905894216\n",
      "1.7000000000000002 <-> 3.5595623044454685\n",
      "1.8 <-> 8.933100833816809\n",
      "1.9000000000000001 <-> 9.822499097743151\n"
     ]
    }
   ],
   "source": [
    "for varepsilon in [0.1*i for i in range(20)]:\n",
    "    print(varepsilon, \"<->\", client_cost(varepsilon))"
   ]
  },
  {
   "cell_type": "code",
   "execution_count": 161,
   "metadata": {},
   "outputs": [],
   "source": [
    "# simulation\n",
    "client_number = 1000\n",
    "\n",
    "mu = 1 \n",
    "sigma = 1\n",
    "\n",
    "client_valuation_type = \"gaussian\"  \n",
    "clients_privacy_budget = np.sort(np.absolute(np.random.normal(mu, sigma, client_number)))\n",
    "# clients_privacy_budget = np.linspace(0.0, 4.0, num=client_number)\n",
    "clients_privacy_cost = [client_cost(clients_privacy_budget[i]) for i in range(client_number)]  "
   ]
  },
  {
   "cell_type": "code",
   "execution_count": 156,
   "metadata": {},
   "outputs": [
    {
     "data": {
      "text/plain": [
       "Text(0.5, 0, 'client_privacy_budget')"
      ]
     },
     "execution_count": 156,
     "metadata": {},
     "output_type": "execute_result"
    },
    {
     "data": {
      "image/png": "[encoded data removed]",
      "text/plain": [
       "<Figure size 432x288 with 1 Axes>"
      ]
     },
     "metadata": {
      "needs_background": "light"
     },
     "output_type": "display_data"
    },
    {
     "data": {
      "image/png": "[encoded data removed]",
      "text/plain": [
       "<Figure size 432x288 with 1 Axes>"
      ]
     },
     "metadata": {
      "needs_background": "light"
     },
     "output_type": "display_data"
    }
   ],
   "source": [
    "# plt.figure(0)\n",
    "# plt.hist(clients_privacy_budget, 30)\n",
    "# plt.xlabel(\"client_privacy_budget\")\n",
    "fig = plt.figure(1)\n",
    "plt.xlabel(\"clients_valuation\")\n",
    "\n",
    "plt.figure(2)\n",
    "plt.plot(clients_privacy_budget, clients_privacy_cost)\n",
    "plt.xlabel(\"client_privacy_budget\")\n",
    "\n",
    "# plt.xlabel(\"privacy_budget\")\n",
    "# plt.ylabel(\"privacy_cost\")"
   ]
  },
  {
   "cell_type": "code",
   "execution_count": 167,
   "metadata": {},
   "outputs": [
    {
     "name": "stdout",
     "output_type": "stream",
     "text": [
      "server_budget =  0.0 clients participate: 887 max_profit =  62.84573025554654 total_profit =  3957.3025449930688\n",
      "server_budget =  0.2 clients participate: 846 max_profit =  61.73129630077018 total_profit =  3771.232621307304\n",
      "server_budget =  0.4 clients participate: 798 max_profit =  62.66180576152207 total_profit =  3562.660166225641\n",
      "server_budget =  0.6000000000000001 clients participate: 736 max_profit =  61.05523152955425 total_profit =  3317.7651377220864\n",
      "server_budget =  0.8 clients participate: 674 max_profit =  60.332943888427806 total_profit =  3054.339665114887\n",
      "server_budget =  1.0 clients participate: 597 max_profit =  60.51120141140097 total_profit =  2781.8271977523095\n",
      "server_budget =  1.2000000000000002 clients participate: 508 max_profit =  58.71140954594796 total_profit =  2471.1994911993943\n",
      "server_budget =  1.4000000000000001 clients participate: 389 max_profit =  58.18079495163118 total_profit =  2138.426690119353\n",
      "server_budget =  1.6 clients participate: 325 max_profit =  58.37838690084412 total_profit =  1839.3251050830397\n",
      "server_budget =  1.8 clients participate: 264 max_profit =  57.05657678008283 total_profit =  1561.7845283273434\n",
      "server_budget =  2.0 clients participate: 200 max_profit =  55.178005604374356 total_profit =  1367.2248110568016\n",
      "server_budget =  2.2 clients participate: 151 max_profit =  53.062249482005925 total_profit =  1070.1644098328702\n",
      "server_budget =  2.4000000000000004 clients participate: 106 max_profit =  51.31275641354948 total_profit =  826.142343973601\n",
      "server_budget =  2.6 clients participate: 71 max_profit =  51.80790892418877 total_profit =  633.3454309381245\n",
      "server_budget =  2.8000000000000003 clients participate: 57 max_profit =  42.06993654396243 total_profit =  538.8846610048491\n",
      "server_budget =  3.0 clients participate: 45 max_profit =  44.78436795158942 total_profit =  398.4745426386569\n",
      "server_budget =  3.2 clients participate: 26 max_profit =  47.15292980533924 total_profit =  211.00866363320716\n",
      "server_budget =  3.4000000000000004 clients participate: 17 max_profit =  31.611523642236815 total_profit =  184.6421783148895\n",
      "server_budget =  3.6 clients participate: 8 max_profit =  14.914930606107891 total_profit =  52.192677474886025\n",
      "server_budget =  3.8000000000000003 clients participate: 4 max_profit =  25.684188225587896 total_profit =  52.01541570770304\n",
      "server_budget =  4.0 clients participate: 3 max_profit =  14.934223303703824 total_profit =  19.70569222767872\n",
      "server_budget =  4.2 clients participate: 1 max_profit =  3.840732624203241 total_profit =  3.840732624203241\n"
     ]
    },
    {
     "ename": "ValueError",
     "evalue": "zero-size array to reduction operation maximum which has no identity",
     "output_type": "error",
     "traceback": [
      "\u001b[0;31m---------------------------------------------------------------------------\u001b[0m",
      "\u001b[0;31mValueError\u001b[0m                                Traceback (most recent call last)",
      "\u001b[0;32m<ipython-input-167-644c113142f1>\u001b[0m in \u001b[0;36m<module>\u001b[0;34m\u001b[0m\n\u001b[1;32m      3\u001b[0m     \u001b[0mclients_enroll\u001b[0m \u001b[0;34m=\u001b[0m \u001b[0mlist\u001b[0m\u001b[0;34m(\u001b[0m\u001b[0mfilter\u001b[0m\u001b[0;34m(\u001b[0m\u001b[0;32mlambda\u001b[0m \u001b[0mi\u001b[0m\u001b[0;34m:\u001b[0m \u001b[0mclients_valuation\u001b[0m\u001b[0;34m[\u001b[0m\u001b[0mi\u001b[0m\u001b[0;34m]\u001b[0m \u001b[0;34m>\u001b[0m \u001b[0mclients_cost\u001b[0m\u001b[0;34m[\u001b[0m\u001b[0mi\u001b[0m\u001b[0;34m]\u001b[0m\u001b[0;34m,\u001b[0m \u001b[0mrange\u001b[0m\u001b[0;34m(\u001b[0m\u001b[0mclient_number\u001b[0m\u001b[0;34m)\u001b[0m\u001b[0;34m)\u001b[0m\u001b[0;34m)\u001b[0m\u001b[0;34m\u001b[0m\u001b[0;34m\u001b[0m\u001b[0m\n\u001b[1;32m      4\u001b[0m     \u001b[0mprofits\u001b[0m \u001b[0;34m=\u001b[0m \u001b[0;34m[\u001b[0m\u001b[0mclients_valuation\u001b[0m\u001b[0;34m[\u001b[0m\u001b[0mi\u001b[0m\u001b[0;34m]\u001b[0m\u001b[0;34m-\u001b[0m\u001b[0mclients_cost\u001b[0m\u001b[0;34m[\u001b[0m\u001b[0mi\u001b[0m\u001b[0;34m]\u001b[0m \u001b[0;32mfor\u001b[0m \u001b[0mi\u001b[0m \u001b[0;32min\u001b[0m \u001b[0mclients_enroll\u001b[0m\u001b[0;34m]\u001b[0m\u001b[0;34m\u001b[0m\u001b[0;34m\u001b[0m\u001b[0m\n\u001b[0;32m----> 5\u001b[0;31m     \u001b[0mmax_profit\u001b[0m \u001b[0;34m=\u001b[0m \u001b[0mnp\u001b[0m\u001b[0;34m.\u001b[0m\u001b[0mmax\u001b[0m\u001b[0;34m(\u001b[0m\u001b[0mprofits\u001b[0m\u001b[0;34m)\u001b[0m\u001b[0;34m\u001b[0m\u001b[0;34m\u001b[0m\u001b[0m\n\u001b[0m\u001b[1;32m      6\u001b[0m     \u001b[0msum_profit\u001b[0m \u001b[0;34m=\u001b[0m \u001b[0mnp\u001b[0m\u001b[0;34m.\u001b[0m\u001b[0msum\u001b[0m\u001b[0;34m(\u001b[0m\u001b[0mprofits\u001b[0m\u001b[0;34m)\u001b[0m\u001b[0;34m\u001b[0m\u001b[0;34m\u001b[0m\u001b[0m\n\u001b[1;32m      7\u001b[0m \u001b[0;34m\u001b[0m\u001b[0m\n",
      "\u001b[0;32m<__array_function__ internals>\u001b[0m in \u001b[0;36mamax\u001b[0;34m(*args, **kwargs)\u001b[0m\n",
      "\u001b[0;32m~/anaconda3/lib/python3.8/site-packages/numpy/core/fromnumeric.py\u001b[0m in \u001b[0;36mamax\u001b[0;34m(a, axis, out, keepdims, initial, where)\u001b[0m\n\u001b[1;32m   2752\u001b[0m     \u001b[0;36m5\u001b[0m\u001b[0;34m\u001b[0m\u001b[0;34m\u001b[0m\u001b[0m\n\u001b[1;32m   2753\u001b[0m     \"\"\"\n\u001b[0;32m-> 2754\u001b[0;31m     return _wrapreduction(a, np.maximum, 'max', axis, None, out,\n\u001b[0m\u001b[1;32m   2755\u001b[0m                           keepdims=keepdims, initial=initial, where=where)\n\u001b[1;32m   2756\u001b[0m \u001b[0;34m\u001b[0m\u001b[0m\n",
      "\u001b[0;32m~/anaconda3/lib/python3.8/site-packages/numpy/core/fromnumeric.py\u001b[0m in \u001b[0;36m_wrapreduction\u001b[0;34m(obj, ufunc, method, axis, dtype, out, **kwargs)\u001b[0m\n\u001b[1;32m     84\u001b[0m                 \u001b[0;32mreturn\u001b[0m \u001b[0mreduction\u001b[0m\u001b[0;34m(\u001b[0m\u001b[0maxis\u001b[0m\u001b[0;34m=\u001b[0m\u001b[0maxis\u001b[0m\u001b[0;34m,\u001b[0m \u001b[0mout\u001b[0m\u001b[0;34m=\u001b[0m\u001b[0mout\u001b[0m\u001b[0;34m,\u001b[0m \u001b[0;34m**\u001b[0m\u001b[0mpasskwargs\u001b[0m\u001b[0;34m)\u001b[0m\u001b[0;34m\u001b[0m\u001b[0;34m\u001b[0m\u001b[0m\n\u001b[1;32m     85\u001b[0m \u001b[0;34m\u001b[0m\u001b[0m\n\u001b[0;32m---> 86\u001b[0;31m     \u001b[0;32mreturn\u001b[0m \u001b[0mufunc\u001b[0m\u001b[0;34m.\u001b[0m\u001b[0mreduce\u001b[0m\u001b[0;34m(\u001b[0m\u001b[0mobj\u001b[0m\u001b[0;34m,\u001b[0m \u001b[0maxis\u001b[0m\u001b[0;34m,\u001b[0m \u001b[0mdtype\u001b[0m\u001b[0;34m,\u001b[0m \u001b[0mout\u001b[0m\u001b[0;34m,\u001b[0m \u001b[0;34m**\u001b[0m\u001b[0mpasskwargs\u001b[0m\u001b[0;34m)\u001b[0m\u001b[0;34m\u001b[0m\u001b[0;34m\u001b[0m\u001b[0m\n\u001b[0m\u001b[1;32m     87\u001b[0m \u001b[0;34m\u001b[0m\u001b[0m\n\u001b[1;32m     88\u001b[0m \u001b[0;34m\u001b[0m\u001b[0m\n",
      "\u001b[0;31mValueError\u001b[0m: zero-size array to reduction operation maximum which has no identity"
     ]
    }
   ],
   "source": [
    "\n",
    "for server_budget in [0.2*i for i in range(30)]:\n",
    "    clients_cost = [client_cost(server_budget) for i in range(client_number)]\n",
    "    clients_enroll = list(filter(lambda i: clients_valuation[i] > clients_cost[i], range(client_number)))\n",
    "    profits = [clients_valuation[i]-clients_cost[i] for i in clients_enroll] \n",
    "    max_profit = np.max(profits)\n",
    "    sum_profit = np.sum(profits)\n",
    "    \n",
    "    print(\"server_budget = \", server_budget, \"clients participate:\", len(clients_enroll), \"max_profit = \", max_profit, \"total_profit = \", sum_profit)"
   ]
  },
  {
   "cell_type": "code",
   "execution_count": 100,
   "metadata": {},
   "outputs": [],
   "source": [
    "server_revenue = lambda epoch: (epoch)"
   ]
  },
  {
   "cell_type": "code",
   "execution_count": 282,
   "metadata": {},
   "outputs": [
    {
     "name": "stdout",
     "output_type": "stream",
     "text": [
      "server_budget =  0.1 clients participate: 1000 total_profit =  1015.6901378486244\n",
      "server_budget =  0.2 clients participate: 1000 total_profit =  1133.4874120876295\n",
      "server_budget =  0.30000000000000004 clients participate: 1000 total_profit =  1122.7621835337156\n",
      "server_budget =  0.4 clients participate: 1000 total_profit =  1045.8460820614905\n",
      "server_budget =  0.5 clients participate: 1000 total_profit =  940.1215746841532\n",
      "server_budget =  0.6 clients participate: 1000 total_profit =  821.6996455102668\n",
      "server_budget =  0.7 clients participate: 1000 total_profit =  697.0304283006423\n",
      "server_budget =  0.7999999999999999 clients participate: 1000 total_profit =  568.9343963326662\n",
      "server_budget =  0.8999999999999999 clients participate: 990 total_profit =  439.04672776674784\n",
      "server_budget =  0.9999999999999999 clients participate: 805 total_profit =  326.603539377238\n",
      "server_budget =  1.0999999999999999 clients participate: 673 total_profit =  239.81149642012866\n",
      "server_budget =  1.2 clients participate: 541 total_profit =  173.98368926666373\n",
      "server_budget =  1.3 clients participate: 444 total_profit =  123.16114255921853\n",
      "server_budget =  1.4000000000000001 clients participate: 349 total_profit =  84.47388545521034\n",
      "server_budget =  1.5000000000000002 clients participate: 271 total_profit =  56.70584321951517\n",
      "server_budget =  1.6000000000000003 clients participate: 204 total_profit =  36.63367799345544\n"
     ]
    },
    {
     "data": {
      "text/plain": [
       "[<matplotlib.lines.Line2D at 0x7fc9cd7934c0>]"
      ]
     },
     "execution_count": 282,
     "metadata": {},
     "output_type": "execute_result"
    },
    {
     "data": {
      "image/png": "[encoded data removed]",
      "text/plain": [
       "<Figure size 432x288 with 1 Axes>"
      ]
     },
     "metadata": {
      "needs_background": "light"
     },
     "output_type": "display_data"
    }
   ],
   "source": [
    "# increasing server_budget\n",
    "epochs = 16\n",
    "client_number = 1000\n",
    "total_profits = []\n",
    "server_budget = 0.1\n",
    "server_budget_step = 0.1\n",
    "server_budgetx = [server_budget+i*server_budget_step for i in range(epochs)]\n",
    "clients_participating = []\n",
    "min_clients = 0.2*client_number\n",
    "np.random.seed = 1000\n",
    "client_cost_coe = np.random.uniform(0.5, 1.5, client_number)\n",
    "\n",
    "epoch = 1\n",
    "while epoch <= epochs:\n",
    "   \n",
    "    clients_cost = [client_cost_coe[i]*server_budget for i in range(client_number)]\n",
    "    # clients_valuation = [client_valuation(client_valuation_type, server_budget)(clients_privacy_budget[i], sigma) for i in range(client_number)]\n",
    "    clients_valuation = [exp(client_valuation(\"gaussian\", server_budget)(clients_privacy_budget[i], 1)) for i in range(client_number)]\n",
    "    \n",
    "    clients_enroll = list(filter(lambda i: clients_valuation[i] > clients_cost[i], range(client_number)))\n",
    "    if len(clients_enroll) < min_clients:\n",
    "        server_budget -= server_budget_step\n",
    "        continue\n",
    "    profits = [clients_valuation[i]-clients_cost[i] for i in clients_enroll] \n",
    "    clients_participating.append(len(clients_enroll))\n",
    "\n",
    "    # server_R = server_revenue(sqrt(len(clients_enroll)))\n",
    "    # max_profit = np.max(profits)\n",
    "    # active_f = lambda k: log(1+exp(k))\n",
    "    active_f = lambda k: 1/(1+exp(-k)) \n",
    "    \n",
    "    sum_profit = active_f(epoch)*np.sum(profits)\n",
    "    # if epoch > 1 and sum_profit < total_profits[-1]:\n",
    "    #     server_budget -= server_budget_step\n",
    "    total_profits.append(sum_profit)\n",
    "    \n",
    "    print(\"server_budget = \", server_budget, \"clients participate:\", len(clients_enroll), \"total_profit = \", sum_profit)\n",
    "    server_budget += server_budget_step\n",
    "    epoch += 1\n",
    "\n",
    "plt.plot(server_budgetx, total_profits)"
   ]
  },
  {
   "cell_type": "code",
   "execution_count": 237,
   "metadata": {},
   "outputs": [
    {
     "name": "stdout",
     "output_type": "stream",
     "text": [
      "[1000, 1000, 1000, 1000, 1000, 1000, 999, 987, 959, 860, 730, 614, 535, 451, 397, 346]\n"
     ]
    }
   ],
   "source": [
    "print(clients_participating)"
   ]
  },
  {
   "cell_type": "code",
   "execution_count": 314,
   "metadata": {},
   "outputs": [
    {
     "data": {
      "image/png": "[encoded data removed]",
      "text/plain": [
       "<Figure size 432x288 with 1 Axes>"
      ]
     },
     "metadata": {
      "needs_background": "light"
     },
     "output_type": "display_data"
    }
   ],
   "source": [
    "# decreasing server_budget\n",
    "epochs = 16\n",
    "client_number = 1000\n",
    "clients_privacy_budget = np.sort(np.absolute(np.random.normal(mu, sigma, client_number)))\n",
    "total_profits = []\n",
    "clients_size = []\n",
    "server_budget = 3\n",
    "server_budget_step = 0.1\n",
    "server_budgetx = [server_budget-i*server_budget_step for i in range(epochs)]\n",
    "clients_participating = []\n",
    "min_clients = 0.2*client_number\n",
    "np.random.seed = 1000\n",
    "client_cost_coe = np.random.uniform(0.5, 1.5, client_number)\n",
    "\n",
    "epoch = 1\n",
    "while epoch <= epochs:\n",
    "    min_clients = 0.01*epoch*client_number \n",
    "    clients_cost = [client_cost_coe[i]*server_budget for i in range(client_number)]\n",
    "    # clients_valuation = [client_valuation(client_valuation_type, server_budget)(clients_privacy_budget[i], sigma) for i in range(client_number)]\n",
    "    clients_valuation = [exp(client_valuation(\"gaussian\", server_budget)(clients_privacy_budget[i], 1)) for i in range(client_number)]\n",
    "    \n",
    "    clients_enroll = list(filter(lambda i: clients_valuation[i] > clients_cost[i], range(client_number)))\n",
    "    if len(clients_enroll) < min_clients:\n",
    "        server_budget -= server_budget_step\n",
    "        # clients_participating.append(0)\n",
    "        continue\n",
    "    profits = [clients_valuation[i]-clients_cost[i] for i in clients_enroll] \n",
    "    clients_participating.append(len(clients_enroll))\n",
    "\n",
    "    # server_R = server_revenue(sqrt(len(clients_enroll)))\n",
    "    # max_profit = np.max(profits)\n",
    "    # active_f = lambda k: log(1+exp(k))\n",
    "    active_f = lambda k: 1/(1+exp(-k)) \n",
    "    \n",
    "    sum_profit = active_f(epoch)*np.sum(profits)\n",
    "    # if epoch > 1 and sum_profit < total_profits[-1]:\n",
    "    #     server_budget -= server_budget_step\n",
    "    # total_profits.append(sum_profit)\n",
    "    clients_size.append(len(clients_enroll))\n",
    "    # print(\"server_budget = \", server_budget, \"clients participate:\", len(clients_enroll), \"total_profit = \", sum_profit)\n",
    "    # server_budget -= server_budget_step\n",
    "    epoch += 1\n",
    "plt.plot(server_budgetx, [0.05*i*client_number for i in range(epochs)], label=\"Minimal Required Clients\")\n",
    "plt.plot(server_budgetx, clients_participating, label=\"Participants\")\n",
    "plt.xlabel(\"Server budget\")\n",
    "plt.ylabel(\"Client Size\")\n",
    "plt.legend()\n",
    "plt.savefig(\"Participants\")"
   ]
  },
  {
   "cell_type": "code",
   "execution_count": 311,
   "metadata": {},
   "outputs": [
    {
     "name": "stdout",
     "output_type": "stream",
     "text": [
      "[66, 121, 212, 253, 309, 369, 442, 536, 626, 626, 741, 741, 875, 875, 961, 961]\n",
      "[3.0, 2.9, 2.8, 2.7, 2.6, 2.5, 2.4, 2.3, 2.2, 2.1, 2.0, 1.9, 1.7999999999999998, 1.7, 1.5999999999999999, 1.5]\n"
     ]
    }
   ],
   "source": [
    "print(clients_participating)\n",
    "print(server_budgetx)"
   ]
  },
  {
   "cell_type": "code",
   "execution_count": 313,
   "metadata": {},
   "outputs": [
    {
     "name": "stdout",
     "output_type": "stream",
     "text": [
      "2.25\n"
     ]
    }
   ],
   "source": [
    "print(np.average(server_budgetx))"
   ]
  },
  {
   "cell_type": "code",
   "execution_count": 293,
   "metadata": {},
   "outputs": [
    {
     "name": "stdout",
     "output_type": "stream",
     "text": [
      "server_budget =  1.0269562977782698e-15 clients participate: 578 total_profit =  349.1276535717289\n",
      "server_budget =  1.0269562977782698e-15 clients participate: 578 total_profit =  420.63745108295484\n",
      "server_budget =  1.0269562977782698e-15 clients participate: 578 total_profit =  454.91562437292896\n",
      "server_budget =  1.0269562977782698e-15 clients participate: 578 total_profit =  468.9749635843257\n",
      "server_budget =  1.0269562977782698e-15 clients participate: 578 total_profit =  474.3682713944896\n",
      "server_budget =  1.0269562977782698e-15 clients participate: 578 total_profit =  476.3837025256297\n",
      "server_budget =  1.0269562977782698e-15 clients participate: 578 total_profit =  477.1294539209281\n",
      "server_budget =  1.0269562977782698e-15 clients participate: 578 total_profit =  477.4043883345106\n",
      "server_budget =  1.0269562977782698e-15 clients participate: 578 total_profit =  477.50561079131535\n",
      "server_budget =  1.0269562977782698e-15 clients participate: 578 total_profit =  477.54285925292476\n",
      "server_budget =  1.0269562977782698e-15 clients participate: 578 total_profit =  477.5565636583568\n",
      "server_budget =  1.0269562977782698e-15 clients participate: 578 total_profit =  477.5616054252779\n",
      "server_budget =  1.0269562977782698e-15 clients participate: 578 total_profit =  477.5634602144606\n",
      "server_budget =  1.0269562977782698e-15 clients participate: 578 total_profit =  477.5641425568936\n",
      "server_budget =  1.0269562977782698e-15 clients participate: 578 total_profit =  477.5643935771372\n",
      "server_budget =  1.0269562977782698e-15 clients participate: 578 total_profit =  477.56448592239053\n"
     ]
    },
    {
     "data": {
      "text/plain": [
       "[<matplotlib.lines.Line2D at 0x7fc9cff0fb80>]"
      ]
     },
     "execution_count": 293,
     "metadata": {},
     "output_type": "execute_result"
    },
    {
     "data": {
      "image/png": "[encoded data removed]",
      "text/plain": [
       "<Figure size 432x288 with 1 Axes>"
      ]
     },
     "metadata": {
      "needs_background": "light"
     },
     "output_type": "display_data"
    }
   ],
   "source": [
    "# decreasing server_budget\n",
    "epochs = 16\n",
    "client_number = 1000\n",
    "clients_privacy_budget = np.sort(np.absolute(np.random.normal(mu, sigma, client_number)))\n",
    "total_profits = []\n",
    "server_budget = 5\n",
    "server_budget_step = 0.1\n",
    "server_budgetx = [server_budget+i*server_budget_step for i in range(epochs)]\n",
    "clients_participating = []\n",
    "min_clients = 0.5*client_number\n",
    "np.random.seed = 1000\n",
    "client_cost_coe = np.random.uniform(0.5, 1.5, client_number)\n",
    "\n",
    "epoch = 1\n",
    "while epoch <= epochs:\n",
    "   \n",
    "    clients_cost = [max(-(clients_privacy_budget[i] - server_budget), 0) + sqrt(server_budget) for i in range(client_number)]\n",
    "    # clients_valuation = [client_valuation(client_valuation_type, server_budget)(clients_privacy_budget[i], sigma) for i in range(client_number)]\n",
    "    clients_valuation = [2*((client_valuation(\"gaussian\", server_budget)(clients_privacy_budget[i], 0.21))) for i in range(client_number)]\n",
    "    \n",
    "    clients_enroll = list(filter(lambda i: clients_valuation[i] > clients_cost[i], range(client_number)))\n",
    "    if len(clients_enroll) < min_clients:\n",
    "        server_budget -= server_budget_step\n",
    "        continue\n",
    "    profits = [clients_valuation[i]-clients_cost[i] for i in clients_enroll] \n",
    "    clients_participating.append(len(clients_enroll))\n",
    "\n",
    "    # server_R = server_revenue(sqrt(len(clients_enroll)))\n",
    "    # max_profit = np.max(profits)\n",
    "    # active_f = lambda k: log(1+exp(k))\n",
    "    active_f = lambda k: 1/(1+exp(-k)) \n",
    "    \n",
    "    sum_profit = active_f(epoch)*np.sum(profits)\n",
    "    # if epoch > 1 and sum_profit < total_profits[-1]:\n",
    "    #     server_budget -= server_budget_step\n",
    "    total_profits.append(sum_profit)\n",
    "    \n",
    "    print(\"server_budget = \", server_budget, \"clients participate:\", len(clients_enroll), \"total_profit = \", sum_profit)\n",
    "    # server_budget -= server_budget_step\n",
    "    epoch += 1\n",
    "\n",
    "plt.plot(server_budgetx, total_profits)"
   ]
  },
  {
   "cell_type": "code",
   "execution_count": 44,
   "metadata": {},
   "outputs": [],
   "source": [
    "import numpy as np\n",
    "from PIL import Image\n",
    "import sys, os\n",
    "import matplotlib.pyplot as plt"
   ]
  },
  {
   "cell_type": "code",
   "execution_count": 64,
   "metadata": {},
   "outputs": [],
   "source": [
    "figure_paths  = []\n",
    "name = \"connectionloss_90740\"\n",
    "dir = f\"./results/{name}\"\n",
    "for file in os.listdir(dir):\n",
    "    # print(file)\n",
    "    if file.startswith(\"Connection\"):\n",
    "        figure_paths.append(os.path.join(dir, file))\n",
    "\n",
    "figure_paths = sorted(figure_paths)"
   ]
  },
  {
   "cell_type": "code",
   "execution_count": 62,
   "metadata": {},
   "outputs": [],
   "source": [
    "concatenated = Image.fromarray(\n",
    "  np.concatenate(\n",
    "    [np.array(Image.open(x)) for x in figure_paths],\n",
    "    axis=1\n",
    "  )\n",
    ")\n",
    "concatenated.save(os.path.join(dir, f\"{name}.png\"))\n",
    "        "
   ]
  },
  {
   "cell_type": "markdown",
   "metadata": {},
   "source": [
    "## Plural Query Results"
   ]
  },
  {
   "cell_type": "code",
   "execution_count": 132,
   "metadata": {},
   "outputs": [
    {
     "name": "stdout",
     "output_type": "stream",
     "text": [
      "Using matplotlib backend: MacOSX\n"
     ]
    }
   ],
   "source": [
    "import pickle, time\n",
    "import matplotlib.pyplot as plt\n",
    "from utils import sort_by_frequency\n",
    "from matplotlib.patches import Rectangle\n",
    "\n",
    "%matplotlib"
   ]
  },
  {
   "cell_type": "code",
   "execution_count": 133,
   "metadata": {},
   "outputs": [],
   "source": [
    "# load results\n",
    "with open(\"plural.txt\", 'rb') as f:\n",
    "    result = pickle.load(f)\n",
    "predict_heavy_hitters, clients = result\n",
    "scaler = 8"
   ]
  },
  {
   "cell_type": "code",
   "execution_count": 116,
   "metadata": {},
   "outputs": [],
   "source": [
    "def visualize_frequency(array, hhs):\n",
    "    fig, ax = plt.subplots()\n",
    "\n",
    "\n",
    "    #display plot\n",
    "\n",
    "    ax.set_xlabel(\"data value\")\n",
    "    ax.set_ylabel(\"count\")\n",
    "    # plt.plot(array) \n",
    "\n",
    "    array_max = max(array)\n",
    "    array_min = min(array)\n",
    "    \n",
    "    counts, bins, _ = ax.hist(array, bins=20, range=(array_min, array_max))\n",
    "    # print(bins)\n",
    "    # plt.plot([min(scaled_hhs), min(scaled_hhs),max(scaled_hhs) , max(scaled_hhs)], [0, max(counts),max(counts), 0], 'y') \n",
    "\n",
    "    for hh in hhs:\n",
    "        if hh > array_max: continue\n",
    "        #add rectangle to plot\n",
    "        ax.add_patch(Rectangle((hh, 0), 2**(scaler+1)-1 , max(counts), alpha=0.3,\n",
    "                    # edgecolor = 'pink',\n",
    "                    facecolor = 'blue',\n",
    "                    fill=True,\n",
    "                    ))\n",
    "\n",
    "    # points = [(x, bins[x]) for x in array]\n",
    "    # plt.xlim(array_min, array_max)\n",
    "\n",
    "    # for pt in points:\n",
    "    #     if pt[0] in scaled_hhs:\n",
    "    #         plt.plot([pt[0], pt[0]], [0, pt[1]], 'purple')\n",
    "    #         if pt[0] not in truth_top_k_heavy_hitters:\n",
    "    #             plt.plot([pt[0], pt[0]], [0, pt[1]], 'blue')\n",
    " \n",
    "    #     else:\n",
    "    #         plt.plot([pt[0], pt[0]], [0, pt[1]], 'grey')\n",
    "    #         if pt[0] in truth_top_k_heavy_hitters:\n",
    "    #             plt.plot([pt[0], pt[0]], [0, pt[1]], 'red')\n",
    "    # # for k in truth_top_k_heavy_hitters:\n",
    "    # #     plt.text(k, bins[k], f\"{k}\", fontsize=\"x-small\")\n",
    "    # plt.grid(True)\n",
    "    # plt.title(f\"Outcome of Plural Query\")\n",
    "    # plt.savefig(f\"truth_frequency_{time.time_ns()}.png\")\n"
   ]
  },
  {
   "cell_type": "code",
   "execution_count": 134,
   "metadata": {},
   "outputs": [
    {
     "ename": "",
     "evalue": "",
     "output_type": "error",
     "traceback": [
      "\u001b[1;31mThe Kernel crashed while executing code in the the current cell or a previous cell. Please review the code in the cell(s) to identify a possible cause of the failure. Click <a href='https://aka.ms/vscodeJupyterKernelCrash'>here</a> for more info. View Jupyter <a href='command:jupyter.viewOutput'>log</a> for further details."
     ]
    }
   ],
   "source": [
    "visualize_frequency(clients, predict_heavy_hitters )"
   ]
  },
  {
   "cell_type": "markdown",
   "metadata": {},
   "source": [
    "## Experiements & Results of different model"
   ]
  },
  {
   "cell_type": "code",
   "execution_count": 65,
   "metadata": {},
   "outputs": [],
   "source": [
    "import pickle\n",
    "import pandas as pd"
   ]
  },
  {
   "cell_type": "code",
   "execution_count": 98,
   "metadata": {},
   "outputs": [],
   "source": [
    "def results_to_csv(exp_name):\n",
    "    with open(f\"./results/{exp_name}.txt\", 'rb') as f:\n",
    "        results = pickle.load(f)\n",
    "    models = list(results.keys())\n",
    "    connectionloss = [i for i in results[models[0]].keys()]\n",
    "\n",
    "    df = pd.DataFrame([\n",
    "        (model, ctl, results[model][ctl]) for ctl in connectionloss for model in models\n",
    "    ], columns=[\"model\", \"connectionloss\", 'results'])\n",
    "    vars = df.results[0][0]\n",
    "    for var in vars:\n",
    "        df[f\"var={var}\"] = None\n",
    "    # df\n",
    "    rows = len(df)\n",
    "    for row in range(rows):\n",
    "        for i, var in enumerate(vars):\n",
    "            df.at[row,f\"var={var}\"] = df.results[row][1][i]\n",
    "    del df[\"results\"]\n",
    "    df.to_csv(f\"./results/{exp_name}.csv\")\n"
   ]
  },
  {
   "cell_type": "code",
   "execution_count": 99,
   "metadata": {},
   "outputs": [],
   "source": [
    "results_to_csv(\"exp_WT\")\n",
    "# exp_4642 = pd.read_csv(\"./results/exp_4642.csv\")\n",
    "# exp_4642.head()\n"
   ]
  },
  {
   "cell_type": "code",
   "execution_count": 88,
   "metadata": {},
   "outputs": [],
   "source": [
    "# connection drop -> f1 reduction %\n",
    "\n",
    "ctl_f1 = pd.DataFrame(columns=exp_4642.columns)\n",
    "# ctl_f1.columns = \n",
    "\n",
    "models = exp_4642.model.unique()\n"
   ]
  },
  {
   "cell_type": "code",
   "execution_count": 89,
   "metadata": {},
   "outputs": [
    {
     "data": {
      "text/html": [
       "<div>\n",
       "<style scoped>\n",
       "    .dataframe tbody tr th:only-of-type {\n",
       "        vertical-align: middle;\n",
       "    }\n",
       "\n",
       "    .dataframe tbody tr th {\n",
       "        vertical-align: top;\n",
       "    }\n",
       "\n",
       "    .dataframe thead th {\n",
       "        text-align: right;\n",
       "    }\n",
       "</style>\n",
       "<table border=\"1\" class=\"dataframe\">\n",
       "  <thead>\n",
       "    <tr style=\"text-align: right;\">\n",
       "      <th></th>\n",
       "      <th>Unnamed: 0</th>\n",
       "      <th>model</th>\n",
       "      <th>connectionloss</th>\n",
       "      <th>var=0.2</th>\n",
       "      <th>var=0.7</th>\n",
       "      <th>var=1.2</th>\n",
       "      <th>var=1.7</th>\n",
       "      <th>var=2.2</th>\n",
       "      <th>var=2.7</th>\n",
       "      <th>var=3.2</th>\n",
       "      <th>...</th>\n",
       "      <th>var=4.2</th>\n",
       "      <th>var=4.7</th>\n",
       "      <th>var=5.2</th>\n",
       "      <th>var=5.7</th>\n",
       "      <th>var=6.2</th>\n",
       "      <th>var=6.7</th>\n",
       "      <th>var=7.2</th>\n",
       "      <th>var=7.7</th>\n",
       "      <th>var=8.2</th>\n",
       "      <th>var=8.7</th>\n",
       "    </tr>\n",
       "  </thead>\n",
       "  <tbody>\n",
       "  </tbody>\n",
       "</table>\n",
       "<p>0 rows × 21 columns</p>\n",
       "</div>"
      ],
      "text/plain": [
       "Empty DataFrame\n",
       "Columns: [Unnamed: 0, model, connectionloss, var=0.2, var=0.7, var=1.2, var=1.7, var=2.2, var=2.7, var=3.2, var=3.7, var=4.2, var=4.7, var=5.2, var=5.7, var=6.2, var=6.7, var=7.2, var=7.7, var=8.2, var=8.7]\n",
       "Index: []\n",
       "\n",
       "[0 rows x 21 columns]"
      ]
     },
     "execution_count": 89,
     "metadata": {},
     "output_type": "execute_result"
    }
   ],
   "source": []
  },
  {
   "cell_type": "code",
   "execution_count": 75,
   "metadata": {},
   "outputs": [],
   "source": []
  },
  {
   "cell_type": "code",
   "execution_count": 78,
   "metadata": {},
   "outputs": [],
   "source": []
  },
  {
   "cell_type": "code",
   "execution_count": null,
   "metadata": {},
   "outputs": [],
   "source": []
  }
 ],
 "metadata": {
  "interpreter": {
   "hash": "22ba5cfddb0696f4770d05d1928b184cd386e5d0688faf1f7407f95640ebfd7b"
  },
  "kernelspec": {
   "display_name": "Python 3.8.3 ('base')",
   "language": "python",
   "name": "python3"
  },
  "language_info": {
   "codemirror_mode": {
    "name": "ipython",
    "version": 3
   },
   "file_extension": ".py",
   "mimetype": "text/x-python",
   "name": "python",
   "nbconvert_exporter": "python",
   "pygments_lexer": "ipython3",
   "version": "3.8.3"
  },
  "orig_nbformat": 4
 },
 "nbformat": 4,
 "nbformat_minor": 2
}
